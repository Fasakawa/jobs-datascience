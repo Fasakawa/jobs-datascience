{
 "cells": [
  {
   "cell_type": "markdown",
   "metadata": {},
   "source": [
    "# DETERMINAR A COLHEIRA DE 2020\n"
   ]
  },
  {
   "cell_type": "markdown",
   "metadata": {},
   "source": [
    "### IMPORTAR BIBLIOTECAS NECESSARIAS\n"
   ]
  },
  {
   "cell_type": "code",
   "execution_count": 1,
   "metadata": {},
   "outputs": [],
   "source": [
    "import numpy as np\n",
    "import pandas as pd\n",
    "import seaborn as sns\n",
    "import xgboost as xgb\n",
    "import matplotlib.pyplot as plt\n",
    "from sklearn.model_selection import train_test_split\n",
    "from sklearn.preprocessing import LabelEncoder\n",
    "from sklearn.linear_model import LogisticRegression\n",
    "from sklearn.metrics import accuracy_score\n",
    "from sklearn.metrics import precision_score, recall_score\n",
    "from sklearn.metrics import f1_score, roc_auc_score, roc_curve\n",
    "from sklearn.metrics import confusion_matrix\n",
    "from imblearn.under_sampling import RandomUnderSampler"
   ]
  },
  {
   "cell_type": "markdown",
   "metadata": {},
   "source": [
    "### CARREGAR OS DADOS "
   ]
  },
  {
   "cell_type": "markdown",
   "metadata": {},
   "source": [
    "Para carregar os dados utilizarei a biblioteca Pandas pois os dados estão no formato \".csv\""
   ]
  },
  {
   "cell_type": "code",
   "execution_count": 2,
   "metadata": {},
   "outputs": [
    {
     "data": {
      "text/html": [
       "<div>\n",
       "<style scoped>\n",
       "    .dataframe tbody tr th:only-of-type {\n",
       "        vertical-align: middle;\n",
       "    }\n",
       "\n",
       "    .dataframe tbody tr th {\n",
       "        vertical-align: top;\n",
       "    }\n",
       "\n",
       "    .dataframe thead th {\n",
       "        text-align: right;\n",
       "    }\n",
       "</style>\n",
       "<table border=\"1\" class=\"dataframe\">\n",
       "  <thead>\n",
       "    <tr style=\"text-align: right;\">\n",
       "      <th></th>\n",
       "      <th>Identificador_Agricultor</th>\n",
       "      <th>Estimativa_de_Insetos</th>\n",
       "      <th>Tipo_de_Cultivo</th>\n",
       "      <th>Tipo_de_Solo</th>\n",
       "      <th>Categoria_Pesticida</th>\n",
       "      <th>Doses_Semana</th>\n",
       "      <th>Semanas_Utilizando</th>\n",
       "      <th>Semanas_Sem_Uso</th>\n",
       "      <th>Temporada</th>\n",
       "      <th>dano_na_plantacao</th>\n",
       "    </tr>\n",
       "  </thead>\n",
       "  <tbody>\n",
       "    <tr>\n",
       "      <th>0</th>\n",
       "      <td>SCROP00001</td>\n",
       "      <td>188</td>\n",
       "      <td>1</td>\n",
       "      <td>0</td>\n",
       "      <td>1</td>\n",
       "      <td>0</td>\n",
       "      <td>0.0</td>\n",
       "      <td>0</td>\n",
       "      <td>1</td>\n",
       "      <td>0</td>\n",
       "    </tr>\n",
       "    <tr>\n",
       "      <th>1</th>\n",
       "      <td>SCROP00002</td>\n",
       "      <td>209</td>\n",
       "      <td>1</td>\n",
       "      <td>0</td>\n",
       "      <td>1</td>\n",
       "      <td>0</td>\n",
       "      <td>0.0</td>\n",
       "      <td>0</td>\n",
       "      <td>2</td>\n",
       "      <td>1</td>\n",
       "    </tr>\n",
       "    <tr>\n",
       "      <th>2</th>\n",
       "      <td>SCROP00003</td>\n",
       "      <td>257</td>\n",
       "      <td>1</td>\n",
       "      <td>0</td>\n",
       "      <td>1</td>\n",
       "      <td>0</td>\n",
       "      <td>0.0</td>\n",
       "      <td>0</td>\n",
       "      <td>2</td>\n",
       "      <td>1</td>\n",
       "    </tr>\n",
       "    <tr>\n",
       "      <th>3</th>\n",
       "      <td>SCROP00004</td>\n",
       "      <td>257</td>\n",
       "      <td>1</td>\n",
       "      <td>1</td>\n",
       "      <td>1</td>\n",
       "      <td>0</td>\n",
       "      <td>0.0</td>\n",
       "      <td>0</td>\n",
       "      <td>2</td>\n",
       "      <td>1</td>\n",
       "    </tr>\n",
       "    <tr>\n",
       "      <th>4</th>\n",
       "      <td>SCROP00005</td>\n",
       "      <td>342</td>\n",
       "      <td>1</td>\n",
       "      <td>0</td>\n",
       "      <td>1</td>\n",
       "      <td>0</td>\n",
       "      <td>0.0</td>\n",
       "      <td>0</td>\n",
       "      <td>2</td>\n",
       "      <td>1</td>\n",
       "    </tr>\n",
       "  </tbody>\n",
       "</table>\n",
       "</div>"
      ],
      "text/plain": [
       "  Identificador_Agricultor  Estimativa_de_Insetos  Tipo_de_Cultivo  \\\n",
       "0               SCROP00001                    188                1   \n",
       "1               SCROP00002                    209                1   \n",
       "2               SCROP00003                    257                1   \n",
       "3               SCROP00004                    257                1   \n",
       "4               SCROP00005                    342                1   \n",
       "\n",
       "   Tipo_de_Solo  Categoria_Pesticida  Doses_Semana  Semanas_Utilizando  \\\n",
       "0             0                    1             0                 0.0   \n",
       "1             0                    1             0                 0.0   \n",
       "2             0                    1             0                 0.0   \n",
       "3             1                    1             0                 0.0   \n",
       "4             0                    1             0                 0.0   \n",
       "\n",
       "   Semanas_Sem_Uso  Temporada  dano_na_plantacao  \n",
       "0                0          1                  0  \n",
       "1                0          2                  1  \n",
       "2                0          2                  1  \n",
       "3                0          2                  1  \n",
       "4                0          2                  1  "
      ]
     },
     "execution_count": 2,
     "metadata": {},
     "output_type": "execute_result"
    }
   ],
   "source": [
    "safra18_19 = pd.read_csv('Safra_2018-2019.csv', index_col=0)\n",
    "safra18_19.head()"
   ]
  },
  {
   "cell_type": "code",
   "execution_count": 3,
   "metadata": {},
   "outputs": [
    {
     "data": {
      "text/html": [
       "<div>\n",
       "<style scoped>\n",
       "    .dataframe tbody tr th:only-of-type {\n",
       "        vertical-align: middle;\n",
       "    }\n",
       "\n",
       "    .dataframe tbody tr th {\n",
       "        vertical-align: top;\n",
       "    }\n",
       "\n",
       "    .dataframe thead th {\n",
       "        text-align: right;\n",
       "    }\n",
       "</style>\n",
       "<table border=\"1\" class=\"dataframe\">\n",
       "  <thead>\n",
       "    <tr style=\"text-align: right;\">\n",
       "      <th></th>\n",
       "      <th>Identificador_Agricultor</th>\n",
       "      <th>Estimativa_de_Insetos</th>\n",
       "      <th>Tipo_de_Cultivo</th>\n",
       "      <th>Tipo_de_Solo</th>\n",
       "      <th>Categoria_Pesticida</th>\n",
       "      <th>Doses_Semana</th>\n",
       "      <th>Semanas_Utilizando</th>\n",
       "      <th>Semanas_Sem_Uso</th>\n",
       "      <th>Temporada</th>\n",
       "    </tr>\n",
       "  </thead>\n",
       "  <tbody>\n",
       "    <tr>\n",
       "      <th>80000</th>\n",
       "      <td>SCROP80001</td>\n",
       "      <td>256</td>\n",
       "      <td>0</td>\n",
       "      <td>1</td>\n",
       "      <td>2</td>\n",
       "      <td>35</td>\n",
       "      <td>11.0</td>\n",
       "      <td>9</td>\n",
       "      <td>1</td>\n",
       "    </tr>\n",
       "    <tr>\n",
       "      <th>80001</th>\n",
       "      <td>SCROP80002</td>\n",
       "      <td>283</td>\n",
       "      <td>0</td>\n",
       "      <td>1</td>\n",
       "      <td>2</td>\n",
       "      <td>5</td>\n",
       "      <td>5.0</td>\n",
       "      <td>6</td>\n",
       "      <td>1</td>\n",
       "    </tr>\n",
       "    <tr>\n",
       "      <th>80002</th>\n",
       "      <td>SCROP80003</td>\n",
       "      <td>283</td>\n",
       "      <td>0</td>\n",
       "      <td>1</td>\n",
       "      <td>2</td>\n",
       "      <td>15</td>\n",
       "      <td>15.0</td>\n",
       "      <td>5</td>\n",
       "      <td>2</td>\n",
       "    </tr>\n",
       "    <tr>\n",
       "      <th>80003</th>\n",
       "      <td>SCROP80004</td>\n",
       "      <td>283</td>\n",
       "      <td>0</td>\n",
       "      <td>1</td>\n",
       "      <td>2</td>\n",
       "      <td>15</td>\n",
       "      <td>NaN</td>\n",
       "      <td>7</td>\n",
       "      <td>2</td>\n",
       "    </tr>\n",
       "    <tr>\n",
       "      <th>80004</th>\n",
       "      <td>SCROP80005</td>\n",
       "      <td>283</td>\n",
       "      <td>0</td>\n",
       "      <td>1</td>\n",
       "      <td>2</td>\n",
       "      <td>15</td>\n",
       "      <td>19.0</td>\n",
       "      <td>2</td>\n",
       "      <td>1</td>\n",
       "    </tr>\n",
       "  </tbody>\n",
       "</table>\n",
       "</div>"
      ],
      "text/plain": [
       "      Identificador_Agricultor  Estimativa_de_Insetos  Tipo_de_Cultivo  \\\n",
       "80000               SCROP80001                    256                0   \n",
       "80001               SCROP80002                    283                0   \n",
       "80002               SCROP80003                    283                0   \n",
       "80003               SCROP80004                    283                0   \n",
       "80004               SCROP80005                    283                0   \n",
       "\n",
       "       Tipo_de_Solo  Categoria_Pesticida  Doses_Semana  Semanas_Utilizando  \\\n",
       "80000             1                    2            35                11.0   \n",
       "80001             1                    2             5                 5.0   \n",
       "80002             1                    2            15                15.0   \n",
       "80003             1                    2            15                 NaN   \n",
       "80004             1                    2            15                19.0   \n",
       "\n",
       "       Semanas_Sem_Uso  Temporada  \n",
       "80000                9          1  \n",
       "80001                6          1  \n",
       "80002                5          2  \n",
       "80003                7          2  \n",
       "80004                2          1  "
      ]
     },
     "execution_count": 3,
     "metadata": {},
     "output_type": "execute_result"
    }
   ],
   "source": [
    "safra20 = pd.read_csv('Safra_2020.csv', index_col=0)\n",
    "safra20.head()"
   ]
  },
  {
   "cell_type": "markdown",
   "metadata": {},
   "source": [
    "## ANALIZES DOS DADOS "
   ]
  },
  {
   "cell_type": "markdown",
   "metadata": {},
   "source": [
    "Para entender um pouco mais sobre os dados e como eles se distribuem vou fazer algumas análises estatísticas simples\n"
   ]
  },
  {
   "cell_type": "markdown",
   "metadata": {},
   "source": [
    "### TRATAMENTO DOS DADOS "
   ]
  },
  {
   "cell_type": "markdown",
   "metadata": {},
   "source": [
    "#### index"
   ]
  },
  {
   "cell_type": "markdown",
   "metadata": {},
   "source": [
    "Como o Identificador_Agricultor pode poluir meus dados vou defini-lo como index caso não haja valores repetidos "
   ]
  },
  {
   "cell_type": "code",
   "execution_count": 4,
   "metadata": {},
   "outputs": [
    {
     "name": "stdout",
     "output_type": "stream",
     "text": [
      "False\n",
      "False\n"
     ]
    }
   ],
   "source": [
    "print(any(safra18_19['Identificador_Agricultor'].duplicated()))\n",
    "print(any(safra20['Identificador_Agricultor'].duplicated()))"
   ]
  },
  {
   "cell_type": "code",
   "execution_count": 5,
   "metadata": {},
   "outputs": [],
   "source": [
    "safra18_19 = safra18_19.set_index('Identificador_Agricultor')\n",
    "safra20 = safra20.set_index('Identificador_Agricultor')"
   ]
  },
  {
   "cell_type": "markdown",
   "metadata": {},
   "source": [
    "#### OBSERVANDO O FORMATO "
   ]
  },
  {
   "cell_type": "code",
   "execution_count": 6,
   "metadata": {},
   "outputs": [
    {
     "name": "stdout",
     "output_type": "stream",
     "text": [
      "Linhas: 80000 \n",
      "Colunas: 9\n",
      "[0 1 2]\n",
      "<class 'pandas.core.frame.DataFrame'>\n"
     ]
    },
    {
     "data": {
      "text/html": [
       "<div>\n",
       "<style scoped>\n",
       "    .dataframe tbody tr th:only-of-type {\n",
       "        vertical-align: middle;\n",
       "    }\n",
       "\n",
       "    .dataframe tbody tr th {\n",
       "        vertical-align: top;\n",
       "    }\n",
       "\n",
       "    .dataframe thead th {\n",
       "        text-align: right;\n",
       "    }\n",
       "</style>\n",
       "<table border=\"1\" class=\"dataframe\">\n",
       "  <thead>\n",
       "    <tr style=\"text-align: right;\">\n",
       "      <th></th>\n",
       "      <th>Estimativa_de_Insetos</th>\n",
       "      <th>Tipo_de_Cultivo</th>\n",
       "      <th>Tipo_de_Solo</th>\n",
       "      <th>Categoria_Pesticida</th>\n",
       "      <th>Doses_Semana</th>\n",
       "      <th>Semanas_Utilizando</th>\n",
       "      <th>Semanas_Sem_Uso</th>\n",
       "      <th>Temporada</th>\n",
       "      <th>dano_na_plantacao</th>\n",
       "    </tr>\n",
       "    <tr>\n",
       "      <th>Identificador_Agricultor</th>\n",
       "      <th></th>\n",
       "      <th></th>\n",
       "      <th></th>\n",
       "      <th></th>\n",
       "      <th></th>\n",
       "      <th></th>\n",
       "      <th></th>\n",
       "      <th></th>\n",
       "      <th></th>\n",
       "    </tr>\n",
       "  </thead>\n",
       "  <tbody>\n",
       "    <tr>\n",
       "      <th>SCROP00001</th>\n",
       "      <td>188</td>\n",
       "      <td>1</td>\n",
       "      <td>0</td>\n",
       "      <td>1</td>\n",
       "      <td>0</td>\n",
       "      <td>0.0</td>\n",
       "      <td>0</td>\n",
       "      <td>1</td>\n",
       "      <td>0</td>\n",
       "    </tr>\n",
       "    <tr>\n",
       "      <th>SCROP00002</th>\n",
       "      <td>209</td>\n",
       "      <td>1</td>\n",
       "      <td>0</td>\n",
       "      <td>1</td>\n",
       "      <td>0</td>\n",
       "      <td>0.0</td>\n",
       "      <td>0</td>\n",
       "      <td>2</td>\n",
       "      <td>1</td>\n",
       "    </tr>\n",
       "    <tr>\n",
       "      <th>SCROP00003</th>\n",
       "      <td>257</td>\n",
       "      <td>1</td>\n",
       "      <td>0</td>\n",
       "      <td>1</td>\n",
       "      <td>0</td>\n",
       "      <td>0.0</td>\n",
       "      <td>0</td>\n",
       "      <td>2</td>\n",
       "      <td>1</td>\n",
       "    </tr>\n",
       "    <tr>\n",
       "      <th>SCROP00004</th>\n",
       "      <td>257</td>\n",
       "      <td>1</td>\n",
       "      <td>1</td>\n",
       "      <td>1</td>\n",
       "      <td>0</td>\n",
       "      <td>0.0</td>\n",
       "      <td>0</td>\n",
       "      <td>2</td>\n",
       "      <td>1</td>\n",
       "    </tr>\n",
       "    <tr>\n",
       "      <th>SCROP00005</th>\n",
       "      <td>342</td>\n",
       "      <td>1</td>\n",
       "      <td>0</td>\n",
       "      <td>1</td>\n",
       "      <td>0</td>\n",
       "      <td>0.0</td>\n",
       "      <td>0</td>\n",
       "      <td>2</td>\n",
       "      <td>1</td>\n",
       "    </tr>\n",
       "  </tbody>\n",
       "</table>\n",
       "</div>"
      ],
      "text/plain": [
       "                          Estimativa_de_Insetos  Tipo_de_Cultivo  \\\n",
       "Identificador_Agricultor                                           \n",
       "SCROP00001                                  188                1   \n",
       "SCROP00002                                  209                1   \n",
       "SCROP00003                                  257                1   \n",
       "SCROP00004                                  257                1   \n",
       "SCROP00005                                  342                1   \n",
       "\n",
       "                          Tipo_de_Solo  Categoria_Pesticida  Doses_Semana  \\\n",
       "Identificador_Agricultor                                                    \n",
       "SCROP00001                           0                    1             0   \n",
       "SCROP00002                           0                    1             0   \n",
       "SCROP00003                           0                    1             0   \n",
       "SCROP00004                           1                    1             0   \n",
       "SCROP00005                           0                    1             0   \n",
       "\n",
       "                          Semanas_Utilizando  Semanas_Sem_Uso  Temporada  \\\n",
       "Identificador_Agricultor                                                   \n",
       "SCROP00001                               0.0                0          1   \n",
       "SCROP00002                               0.0                0          2   \n",
       "SCROP00003                               0.0                0          2   \n",
       "SCROP00004                               0.0                0          2   \n",
       "SCROP00005                               0.0                0          2   \n",
       "\n",
       "                          dano_na_plantacao  \n",
       "Identificador_Agricultor                     \n",
       "SCROP00001                                0  \n",
       "SCROP00002                                1  \n",
       "SCROP00003                                1  \n",
       "SCROP00004                                1  \n",
       "SCROP00005                                1  "
      ]
     },
     "execution_count": 6,
     "metadata": {},
     "output_type": "execute_result"
    }
   ],
   "source": [
    "numLinhas, numColunas = safra18_19.shape\n",
    "print(\"Linhas: {} \\nColunas: {}\".format(numLinhas, numColunas))\n",
    "print(safra18_19 ['dano_na_plantacao'].unique())\n",
    "print(type(safra18_19))\n",
    "safra18_19.head()"
   ]
  },
  {
   "cell_type": "markdown",
   "metadata": {},
   "source": [
    "Temos um Data Frame com 10 colunas(contando com o ID do Agricultor, colocado como indice), 80 000 Linhas e as 3 respostas esperadas estão presentes "
   ]
  },
  {
   "cell_type": "markdown",
   "metadata": {},
   "source": [
    "#### VERIFICAR E REMOVER NaNs"
   ]
  },
  {
   "cell_type": "code",
   "execution_count": 7,
   "metadata": {},
   "outputs": [
    {
     "data": {
      "text/plain": [
       "Estimativa_de_Insetos    False\n",
       "Tipo_de_Cultivo          False\n",
       "Tipo_de_Solo             False\n",
       "Categoria_Pesticida      False\n",
       "Doses_Semana             False\n",
       "Semanas_Utilizando        True\n",
       "Semanas_Sem_Uso          False\n",
       "Temporada                False\n",
       "dano_na_plantacao        False\n",
       "dtype: bool"
      ]
     },
     "execution_count": 7,
     "metadata": {},
     "output_type": "execute_result"
    }
   ],
   "source": [
    "NA=safra18_19.isna().any()\n",
    "NA"
   ]
  },
  {
   "cell_type": "markdown",
   "metadata": {},
   "source": [
    "ara decidir que ação tomar com os NaNs da categoria Semanas_Utilizando verificarei sua ocorrência em Categoria_Pesticida pois caso seja em sua maioria 1 (Nunca Usou) assumirei o valor 0 caso contrário o valor da mediana"
   ]
  },
  {
   "cell_type": "code",
   "execution_count": 8,
   "metadata": {},
   "outputs": [
    {
     "data": {
      "text/plain": [
       "2    5776\n",
       "3    2191\n",
       "1      88\n",
       "Name: Categoria_Pesticida, dtype: int64"
      ]
     },
     "execution_count": 8,
     "metadata": {},
     "output_type": "execute_result"
    }
   ],
   "source": [
    "NA_Semanas_Utilizando = safra18_19[safra18_19.Semanas_Utilizando.isna()]\n",
    "NA_Semanas_Utilizando.Categoria_Pesticida.value_counts()"
   ]
  },
  {
   "cell_type": "code",
   "execution_count": 9,
   "metadata": {},
   "outputs": [
    {
     "name": "stdout",
     "output_type": "stream",
     "text": [
      "[ 0. 28. 26. 20. 15. 14. 19. 24.  8. 23. 25. 29. 22. 21. 17. 30. 35. 32.\n",
      " 27. 16. 31. 33. 34. 39. 38. 42. 40. 41. 36. 44. 37. 46. 45. 47. 43. 50.\n",
      " 10. 49. 53. 48. 51. 54. 52. 55. 56. 61. 18. 57. 62. 60. 63. 66. 59. 64.\n",
      " 13.  7.  5. 12.  6.  9. 58. 11. 65. 67.]\n"
     ]
    }
   ],
   "source": [
    "safra18_19['Semanas_Utilizando'].fillna(safra18_19['Semanas_Utilizando'].median(), inplace=True)\n",
    "print(safra18_19 ['Semanas_Utilizando'].unique())"
   ]
  },
  {
   "cell_type": "markdown",
   "metadata": {},
   "source": [
    "#### 2020"
   ]
  },
  {
   "cell_type": "code",
   "execution_count": 10,
   "metadata": {},
   "outputs": [
    {
     "data": {
      "text/plain": [
       "Estimativa_de_Insetos    False\n",
       "Tipo_de_Cultivo          False\n",
       "Tipo_de_Solo             False\n",
       "Categoria_Pesticida      False\n",
       "Doses_Semana             False\n",
       "Semanas_Utilizando        True\n",
       "Semanas_Sem_Uso          False\n",
       "Temporada                False\n",
       "dtype: bool"
      ]
     },
     "execution_count": 10,
     "metadata": {},
     "output_type": "execute_result"
    }
   ],
   "source": [
    "NA=safra20.isna().any()\n",
    "NA"
   ]
  },
  {
   "cell_type": "code",
   "execution_count": 11,
   "metadata": {},
   "outputs": [
    {
     "name": "stdout",
     "output_type": "stream",
     "text": [
      "[11.  5. 15. 27. 19.  7. 12. 18. 16. 22. 20. 10. 17. 13. 21. 24. 23. 25.\n",
      " 30. 28.  9. 14. 26. 31. 36. 29.  6. 35.  8. 32. 33. 39. 34. 38. 40. 37.\n",
      " 43. 41. 45. 42. 44. 48. 51. 50. 46. 47. 49. 52. 53. 55.  0. 54. 56. 60.\n",
      " 58. 63. 62. 64. 59. 61. 57. 67.]\n"
     ]
    }
   ],
   "source": [
    "safra20['Semanas_Utilizando'].fillna(safra20['Semanas_Utilizando'].median(), inplace=True)\n",
    "print(safra20 ['Semanas_Utilizando'].unique())"
   ]
  },
  {
   "cell_type": "markdown",
   "metadata": {},
   "source": [
    "### PLOTS"
   ]
  },
  {
   "cell_type": "markdown",
   "metadata": {},
   "source": [
    "Para as variáveis quantitativas farei boxplots e para as qualitativas gráfico de barras."
   ]
  },
  {
   "cell_type": "markdown",
   "metadata": {},
   "source": [
    "##### Estimativa de Insetos"
   ]
  },
  {
   "cell_type": "code",
   "execution_count": 12,
   "metadata": {},
   "outputs": [
    {
     "data": {
      "text/plain": [
       "<matplotlib.axes._subplots.AxesSubplot at 0x7f4e4ceb0890>"
      ]
     },
     "execution_count": 12,
     "metadata": {},
     "output_type": "execute_result"
    },
    {
     "data": {
      "image/png": "[encoded data removed]",
      "text/plain": [
       "<Figure size 432x288 with 1 Axes>"
      ]
     },
     "metadata": {
      "needs_background": "light"
     },
     "output_type": "display_data"
    }
   ],
   "source": [
    "sns.boxplot(safra18_19.Estimativa_de_Insetos)"
   ]
  },
  {
   "cell_type": "markdown",
   "metadata": {},
   "source": [
    "##### Tipo de Cultivo"
   ]
  },
  {
   "cell_type": "code",
   "execution_count": 13,
   "metadata": {},
   "outputs": [
    {
     "data": {
      "text/plain": [
       "<seaborn.axisgrid.FacetGrid at 0x7f4e4c57bfd0>"
      ]
     },
     "execution_count": 13,
     "metadata": {},
     "output_type": "execute_result"
    },
    {
     "data": {
      "image/png": "[encoded data removed]",
      "text/plain": [
       "<Figure size 360x360 with 1 Axes>"
      ]
     },
     "metadata": {
      "needs_background": "light"
     },
     "output_type": "display_data"
    }
   ],
   "source": [
    "sns.catplot (x=\"Tipo_de_Cultivo\", kind = 'count', data = safra18_19)"
   ]
  },
  {
   "cell_type": "markdown",
   "metadata": {},
   "source": [
    "##### Tipo de Solo"
   ]
  },
  {
   "cell_type": "code",
   "execution_count": 14,
   "metadata": {},
   "outputs": [
    {
     "data": {
      "text/plain": [
       "<seaborn.axisgrid.FacetGrid at 0x7f4e4bb2ac50>"
      ]
     },
     "execution_count": 14,
     "metadata": {},
     "output_type": "execute_result"
    },
    {
     "data": {
      "image/png": "[encoded data removed]",
      "text/plain": [
       "<Figure size 360x360 with 1 Axes>"
      ]
     },
     "metadata": {
      "needs_background": "light"
     },
     "output_type": "display_data"
    }
   ],
   "source": [
    "sns.catplot(x = \"Tipo_de_Solo\", kind =\"count\", data = safra18_19)"
   ]
  },
  {
   "cell_type": "code",
   "execution_count": 15,
   "metadata": {},
   "outputs": [
    {
     "data": {
      "text/plain": [
       "<seaborn.axisgrid.FacetGrid at 0x7f4e4c0f0b50>"
      ]
     },
     "execution_count": 15,
     "metadata": {},
     "output_type": "execute_result"
    },
    {
     "data": {
      "image/png": "[encoded data removed]",
      "text/plain": [
       "<Figure size 360x360 with 1 Axes>"
      ]
     },
     "metadata": {
      "needs_background": "light"
     },
     "output_type": "display_data"
    }
   ],
   "source": [
    "sns.catplot(x = \"Categoria_Pesticida\", kind =\"count\", data = safra18_19)"
   ]
  },
  {
   "cell_type": "code",
   "execution_count": 16,
   "metadata": {},
   "outputs": [
    {
     "data": {
      "text/plain": [
       "<matplotlib.axes._subplots.AxesSubplot at 0x7f4e4bf90ad0>"
      ]
     },
     "execution_count": 16,
     "metadata": {},
     "output_type": "execute_result"
    },
    {
     "data": {
      "image/png": "[encoded data removed]",
      "text/plain": [
       "<Figure size 432x288 with 1 Axes>"
      ]
     },
     "metadata": {
      "needs_background": "light"
     },
     "output_type": "display_data"
    }
   ],
   "source": [
    "sns.boxplot(safra18_19.Doses_Semana)"
   ]
  },
  {
   "cell_type": "code",
   "execution_count": 17,
   "metadata": {},
   "outputs": [
    {
     "data": {
      "text/plain": [
       "<matplotlib.axes._subplots.AxesSubplot at 0x7f4e4bf48ad0>"
      ]
     },
     "execution_count": 17,
     "metadata": {},
     "output_type": "execute_result"
    },
    {
     "data": {
      "image/png": "[encoded data removed]",
      "text/plain": [
       "<Figure size 432x288 with 1 Axes>"
      ]
     },
     "metadata": {
      "needs_background": "light"
     },
     "output_type": "display_data"
    }
   ],
   "source": [
    "sns.boxplot(safra18_19.Semanas_Utilizando)"
   ]
  },
  {
   "cell_type": "code",
   "execution_count": 18,
   "metadata": {},
   "outputs": [
    {
     "data": {
      "text/plain": [
       "<matplotlib.axes._subplots.AxesSubplot at 0x7f4e4bee5e10>"
      ]
     },
     "execution_count": 18,
     "metadata": {},
     "output_type": "execute_result"
    },
    {
     "data": {
      "image/png": "[encoded data removed]",
      "text/plain": [
       "<Figure size 432x288 with 1 Axes>"
      ]
     },
     "metadata": {
      "needs_background": "light"
     },
     "output_type": "display_data"
    }
   ],
   "source": [
    "sns.boxplot(safra18_19.Semanas_Sem_Uso)"
   ]
  },
  {
   "cell_type": "code",
   "execution_count": 19,
   "metadata": {},
   "outputs": [
    {
     "data": {
      "text/plain": [
       "<seaborn.axisgrid.FacetGrid at 0x7f4e4be3d0d0>"
      ]
     },
     "execution_count": 19,
     "metadata": {},
     "output_type": "execute_result"
    },
    {
     "data": {
      "image/png": "[encoded data removed]",
      "text/plain": [
       "<Figure size 360x360 with 1 Axes>"
      ]
     },
     "metadata": {
      "needs_background": "light"
     },
     "output_type": "display_data"
    }
   ],
   "source": [
    "sns.catplot(x='Temporada', kind ='count', data=safra18_19)"
   ]
  },
  {
   "cell_type": "code",
   "execution_count": 20,
   "metadata": {},
   "outputs": [
    {
     "data": {
      "text/plain": [
       "<seaborn.axisgrid.FacetGrid at 0x7f4e4bea6910>"
      ]
     },
     "execution_count": 20,
     "metadata": {},
     "output_type": "execute_result"
    },
    {
     "data": {
      "image/png": "[encoded data removed]",
      "text/plain": [
       "<Figure size 360x360 with 1 Axes>"
      ]
     },
     "metadata": {
      "needs_background": "light"
     },
     "output_type": "display_data"
    }
   ],
   "source": [
    "sns.catplot(x='dano_na_plantacao', kind ='count', data=safra18_19)"
   ]
  },
  {
   "cell_type": "code",
   "execution_count": 21,
   "metadata": {},
   "outputs": [
    {
     "data": {
      "text/html": [
       "<div>\n",
       "<style scoped>\n",
       "    .dataframe tbody tr th:only-of-type {\n",
       "        vertical-align: middle;\n",
       "    }\n",
       "\n",
       "    .dataframe tbody tr th {\n",
       "        vertical-align: top;\n",
       "    }\n",
       "\n",
       "    .dataframe thead th {\n",
       "        text-align: right;\n",
       "    }\n",
       "</style>\n",
       "<table border=\"1\" class=\"dataframe\">\n",
       "  <thead>\n",
       "    <tr style=\"text-align: right;\">\n",
       "      <th></th>\n",
       "      <th>Estimativa_de_Insetos</th>\n",
       "      <th>Tipo_de_Cultivo</th>\n",
       "      <th>Tipo_de_Solo</th>\n",
       "      <th>Categoria_Pesticida</th>\n",
       "      <th>Doses_Semana</th>\n",
       "      <th>Semanas_Utilizando</th>\n",
       "      <th>Semanas_Sem_Uso</th>\n",
       "      <th>Temporada</th>\n",
       "      <th>dano_na_plantacao</th>\n",
       "    </tr>\n",
       "  </thead>\n",
       "  <tbody>\n",
       "    <tr>\n",
       "      <th>Estimativa_de_Insetos</th>\n",
       "      <td>1.000000</td>\n",
       "      <td>-0.090063</td>\n",
       "      <td>-0.056147</td>\n",
       "      <td>-0.080734</td>\n",
       "      <td>-0.101807</td>\n",
       "      <td>0.414125</td>\n",
       "      <td>0.298849</td>\n",
       "      <td>0.002964</td>\n",
       "      <td>0.203290</td>\n",
       "    </tr>\n",
       "    <tr>\n",
       "      <th>Tipo_de_Cultivo</th>\n",
       "      <td>-0.090063</td>\n",
       "      <td>1.000000</td>\n",
       "      <td>-0.278775</td>\n",
       "      <td>0.238823</td>\n",
       "      <td>-0.190884</td>\n",
       "      <td>-0.042741</td>\n",
       "      <td>-0.235928</td>\n",
       "      <td>0.002792</td>\n",
       "      <td>-0.017228</td>\n",
       "    </tr>\n",
       "    <tr>\n",
       "      <th>Tipo_de_Solo</th>\n",
       "      <td>-0.056147</td>\n",
       "      <td>-0.278775</td>\n",
       "      <td>1.000000</td>\n",
       "      <td>0.035994</td>\n",
       "      <td>0.076580</td>\n",
       "      <td>-0.064807</td>\n",
       "      <td>0.006122</td>\n",
       "      <td>0.002066</td>\n",
       "      <td>-0.021176</td>\n",
       "    </tr>\n",
       "    <tr>\n",
       "      <th>Categoria_Pesticida</th>\n",
       "      <td>-0.080734</td>\n",
       "      <td>0.238823</td>\n",
       "      <td>0.035994</td>\n",
       "      <td>1.000000</td>\n",
       "      <td>-0.002913</td>\n",
       "      <td>0.326165</td>\n",
       "      <td>-0.556253</td>\n",
       "      <td>0.001175</td>\n",
       "      <td>0.172943</td>\n",
       "    </tr>\n",
       "    <tr>\n",
       "      <th>Doses_Semana</th>\n",
       "      <td>-0.101807</td>\n",
       "      <td>-0.190884</td>\n",
       "      <td>0.076580</td>\n",
       "      <td>-0.002913</td>\n",
       "      <td>1.000000</td>\n",
       "      <td>0.117444</td>\n",
       "      <td>-0.034144</td>\n",
       "      <td>-0.002251</td>\n",
       "      <td>-0.030476</td>\n",
       "    </tr>\n",
       "    <tr>\n",
       "      <th>Semanas_Utilizando</th>\n",
       "      <td>0.414125</td>\n",
       "      <td>-0.042741</td>\n",
       "      <td>-0.064807</td>\n",
       "      <td>0.326165</td>\n",
       "      <td>0.117444</td>\n",
       "      <td>1.000000</td>\n",
       "      <td>-0.424593</td>\n",
       "      <td>0.001812</td>\n",
       "      <td>0.221034</td>\n",
       "    </tr>\n",
       "    <tr>\n",
       "      <th>Semanas_Sem_Uso</th>\n",
       "      <td>0.298849</td>\n",
       "      <td>-0.235928</td>\n",
       "      <td>0.006122</td>\n",
       "      <td>-0.556253</td>\n",
       "      <td>-0.034144</td>\n",
       "      <td>-0.424593</td>\n",
       "      <td>1.000000</td>\n",
       "      <td>0.003220</td>\n",
       "      <td>-0.133115</td>\n",
       "    </tr>\n",
       "    <tr>\n",
       "      <th>Temporada</th>\n",
       "      <td>0.002964</td>\n",
       "      <td>0.002792</td>\n",
       "      <td>0.002066</td>\n",
       "      <td>0.001175</td>\n",
       "      <td>-0.002251</td>\n",
       "      <td>0.001812</td>\n",
       "      <td>0.003220</td>\n",
       "      <td>1.000000</td>\n",
       "      <td>-0.002233</td>\n",
       "    </tr>\n",
       "    <tr>\n",
       "      <th>dano_na_plantacao</th>\n",
       "      <td>0.203290</td>\n",
       "      <td>-0.017228</td>\n",
       "      <td>-0.021176</td>\n",
       "      <td>0.172943</td>\n",
       "      <td>-0.030476</td>\n",
       "      <td>0.221034</td>\n",
       "      <td>-0.133115</td>\n",
       "      <td>-0.002233</td>\n",
       "      <td>1.000000</td>\n",
       "    </tr>\n",
       "  </tbody>\n",
       "</table>\n",
       "</div>"
      ],
      "text/plain": [
       "                       Estimativa_de_Insetos  Tipo_de_Cultivo  Tipo_de_Solo  \\\n",
       "Estimativa_de_Insetos               1.000000        -0.090063     -0.056147   \n",
       "Tipo_de_Cultivo                    -0.090063         1.000000     -0.278775   \n",
       "Tipo_de_Solo                       -0.056147        -0.278775      1.000000   \n",
       "Categoria_Pesticida                -0.080734         0.238823      0.035994   \n",
       "Doses_Semana                       -0.101807        -0.190884      0.076580   \n",
       "Semanas_Utilizando                  0.414125        -0.042741     -0.064807   \n",
       "Semanas_Sem_Uso                     0.298849        -0.235928      0.006122   \n",
       "Temporada                           0.002964         0.002792      0.002066   \n",
       "dano_na_plantacao                   0.203290        -0.017228     -0.021176   \n",
       "\n",
       "                       Categoria_Pesticida  Doses_Semana  Semanas_Utilizando  \\\n",
       "Estimativa_de_Insetos            -0.080734     -0.101807            0.414125   \n",
       "Tipo_de_Cultivo                   0.238823     -0.190884           -0.042741   \n",
       "Tipo_de_Solo                      0.035994      0.076580           -0.064807   \n",
       "Categoria_Pesticida               1.000000     -0.002913            0.326165   \n",
       "Doses_Semana                     -0.002913      1.000000            0.117444   \n",
       "Semanas_Utilizando                0.326165      0.117444            1.000000   \n",
       "Semanas_Sem_Uso                  -0.556253     -0.034144           -0.424593   \n",
       "Temporada                         0.001175     -0.002251            0.001812   \n",
       "dano_na_plantacao                 0.172943     -0.030476            0.221034   \n",
       "\n",
       "                       Semanas_Sem_Uso  Temporada  dano_na_plantacao  \n",
       "Estimativa_de_Insetos         0.298849   0.002964           0.203290  \n",
       "Tipo_de_Cultivo              -0.235928   0.002792          -0.017228  \n",
       "Tipo_de_Solo                  0.006122   0.002066          -0.021176  \n",
       "Categoria_Pesticida          -0.556253   0.001175           0.172943  \n",
       "Doses_Semana                 -0.034144  -0.002251          -0.030476  \n",
       "Semanas_Utilizando           -0.424593   0.001812           0.221034  \n",
       "Semanas_Sem_Uso               1.000000   0.003220          -0.133115  \n",
       "Temporada                     0.003220   1.000000          -0.002233  \n",
       "dano_na_plantacao            -0.133115  -0.002233           1.000000  "
      ]
     },
     "execution_count": 21,
     "metadata": {},
     "output_type": "execute_result"
    }
   ],
   "source": [
    "safra18_19.corr()"
   ]
  },
  {
   "cell_type": "markdown",
   "metadata": {},
   "source": [
    "Para as variáveis quantitativas com não há correlações altas normalmente se separaria a categoria Semanas_Sem_Uso em intervalos na tentativa de obter mais correlações, porem isso diminuiu a precisão da minha predição consideravelmente "
   ]
  },
  {
   "cell_type": "markdown",
   "metadata": {},
   "source": [
    "### TRANSFORMAR AS VARIAVEIS CATEGORICAS EM BINARIAS - One Hot Encoding"
   ]
  },
  {
   "cell_type": "markdown",
   "metadata": {},
   "source": [
    "para que se consiga extrair mais informações e como as variáveis são qualitativas nominais dividirei em colunas binarias (One Hot Encoding) com a função get_dummies do pandas\n"
   ]
  },
  {
   "cell_type": "markdown",
   "metadata": {},
   "source": [
    "##### CATEGORIA PESTICIDA"
   ]
  },
  {
   "cell_type": "code",
   "execution_count": 22,
   "metadata": {
    "scrolled": true
   },
   "outputs": [
    {
     "data": {
      "text/html": [
       "<div>\n",
       "<style scoped>\n",
       "    .dataframe tbody tr th:only-of-type {\n",
       "        vertical-align: middle;\n",
       "    }\n",
       "\n",
       "    .dataframe tbody tr th {\n",
       "        vertical-align: top;\n",
       "    }\n",
       "\n",
       "    .dataframe thead th {\n",
       "        text-align: right;\n",
       "    }\n",
       "</style>\n",
       "<table border=\"1\" class=\"dataframe\">\n",
       "  <thead>\n",
       "    <tr style=\"text-align: right;\">\n",
       "      <th></th>\n",
       "      <th>Estimativa_de_Insetos</th>\n",
       "      <th>Tipo_de_Cultivo</th>\n",
       "      <th>Tipo_de_Solo</th>\n",
       "      <th>Doses_Semana</th>\n",
       "      <th>Semanas_Utilizando</th>\n",
       "      <th>Semanas_Sem_Uso</th>\n",
       "      <th>Temporada</th>\n",
       "      <th>dano_na_plantacao</th>\n",
       "      <th>Categoria_Pesticida__1</th>\n",
       "      <th>Categoria_Pesticida__2</th>\n",
       "      <th>Categoria_Pesticida__3</th>\n",
       "    </tr>\n",
       "    <tr>\n",
       "      <th>Identificador_Agricultor</th>\n",
       "      <th></th>\n",
       "      <th></th>\n",
       "      <th></th>\n",
       "      <th></th>\n",
       "      <th></th>\n",
       "      <th></th>\n",
       "      <th></th>\n",
       "      <th></th>\n",
       "      <th></th>\n",
       "      <th></th>\n",
       "      <th></th>\n",
       "    </tr>\n",
       "  </thead>\n",
       "  <tbody>\n",
       "    <tr>\n",
       "      <th>SCROP00001</th>\n",
       "      <td>188</td>\n",
       "      <td>1</td>\n",
       "      <td>0</td>\n",
       "      <td>0</td>\n",
       "      <td>0.0</td>\n",
       "      <td>0</td>\n",
       "      <td>1</td>\n",
       "      <td>0</td>\n",
       "      <td>1</td>\n",
       "      <td>0</td>\n",
       "      <td>0</td>\n",
       "    </tr>\n",
       "    <tr>\n",
       "      <th>SCROP00002</th>\n",
       "      <td>209</td>\n",
       "      <td>1</td>\n",
       "      <td>0</td>\n",
       "      <td>0</td>\n",
       "      <td>0.0</td>\n",
       "      <td>0</td>\n",
       "      <td>2</td>\n",
       "      <td>1</td>\n",
       "      <td>1</td>\n",
       "      <td>0</td>\n",
       "      <td>0</td>\n",
       "    </tr>\n",
       "    <tr>\n",
       "      <th>SCROP00003</th>\n",
       "      <td>257</td>\n",
       "      <td>1</td>\n",
       "      <td>0</td>\n",
       "      <td>0</td>\n",
       "      <td>0.0</td>\n",
       "      <td>0</td>\n",
       "      <td>2</td>\n",
       "      <td>1</td>\n",
       "      <td>1</td>\n",
       "      <td>0</td>\n",
       "      <td>0</td>\n",
       "    </tr>\n",
       "    <tr>\n",
       "      <th>SCROP00004</th>\n",
       "      <td>257</td>\n",
       "      <td>1</td>\n",
       "      <td>1</td>\n",
       "      <td>0</td>\n",
       "      <td>0.0</td>\n",
       "      <td>0</td>\n",
       "      <td>2</td>\n",
       "      <td>1</td>\n",
       "      <td>1</td>\n",
       "      <td>0</td>\n",
       "      <td>0</td>\n",
       "    </tr>\n",
       "    <tr>\n",
       "      <th>SCROP00005</th>\n",
       "      <td>342</td>\n",
       "      <td>1</td>\n",
       "      <td>0</td>\n",
       "      <td>0</td>\n",
       "      <td>0.0</td>\n",
       "      <td>0</td>\n",
       "      <td>2</td>\n",
       "      <td>1</td>\n",
       "      <td>1</td>\n",
       "      <td>0</td>\n",
       "      <td>0</td>\n",
       "    </tr>\n",
       "    <tr>\n",
       "      <th>...</th>\n",
       "      <td>...</td>\n",
       "      <td>...</td>\n",
       "      <td>...</td>\n",
       "      <td>...</td>\n",
       "      <td>...</td>\n",
       "      <td>...</td>\n",
       "      <td>...</td>\n",
       "      <td>...</td>\n",
       "      <td>...</td>\n",
       "      <td>...</td>\n",
       "      <td>...</td>\n",
       "    </tr>\n",
       "    <tr>\n",
       "      <th>SCROP79996</th>\n",
       "      <td>209</td>\n",
       "      <td>0</td>\n",
       "      <td>1</td>\n",
       "      <td>20</td>\n",
       "      <td>12.0</td>\n",
       "      <td>6</td>\n",
       "      <td>2</td>\n",
       "      <td>0</td>\n",
       "      <td>0</td>\n",
       "      <td>1</td>\n",
       "      <td>0</td>\n",
       "    </tr>\n",
       "    <tr>\n",
       "      <th>SCROP79997</th>\n",
       "      <td>232</td>\n",
       "      <td>0</td>\n",
       "      <td>1</td>\n",
       "      <td>20</td>\n",
       "      <td>12.0</td>\n",
       "      <td>9</td>\n",
       "      <td>1</td>\n",
       "      <td>0</td>\n",
       "      <td>0</td>\n",
       "      <td>1</td>\n",
       "      <td>0</td>\n",
       "    </tr>\n",
       "    <tr>\n",
       "      <th>SCROP79998</th>\n",
       "      <td>256</td>\n",
       "      <td>0</td>\n",
       "      <td>1</td>\n",
       "      <td>10</td>\n",
       "      <td>14.0</td>\n",
       "      <td>10</td>\n",
       "      <td>1</td>\n",
       "      <td>0</td>\n",
       "      <td>0</td>\n",
       "      <td>1</td>\n",
       "      <td>0</td>\n",
       "    </tr>\n",
       "    <tr>\n",
       "      <th>SCROP79999</th>\n",
       "      <td>256</td>\n",
       "      <td>0</td>\n",
       "      <td>1</td>\n",
       "      <td>10</td>\n",
       "      <td>16.0</td>\n",
       "      <td>8</td>\n",
       "      <td>2</td>\n",
       "      <td>0</td>\n",
       "      <td>0</td>\n",
       "      <td>1</td>\n",
       "      <td>0</td>\n",
       "    </tr>\n",
       "    <tr>\n",
       "      <th>SCROP80000</th>\n",
       "      <td>256</td>\n",
       "      <td>0</td>\n",
       "      <td>1</td>\n",
       "      <td>20</td>\n",
       "      <td>11.0</td>\n",
       "      <td>10</td>\n",
       "      <td>2</td>\n",
       "      <td>0</td>\n",
       "      <td>0</td>\n",
       "      <td>1</td>\n",
       "      <td>0</td>\n",
       "    </tr>\n",
       "  </tbody>\n",
       "</table>\n",
       "<p>80000 rows × 11 columns</p>\n",
       "</div>"
      ],
      "text/plain": [
       "                          Estimativa_de_Insetos  Tipo_de_Cultivo  \\\n",
       "Identificador_Agricultor                                           \n",
       "SCROP00001                                  188                1   \n",
       "SCROP00002                                  209                1   \n",
       "SCROP00003                                  257                1   \n",
       "SCROP00004                                  257                1   \n",
       "SCROP00005                                  342                1   \n",
       "...                                         ...              ...   \n",
       "SCROP79996                                  209                0   \n",
       "SCROP79997                                  232                0   \n",
       "SCROP79998                                  256                0   \n",
       "SCROP79999                                  256                0   \n",
       "SCROP80000                                  256                0   \n",
       "\n",
       "                          Tipo_de_Solo  Doses_Semana  Semanas_Utilizando  \\\n",
       "Identificador_Agricultor                                                   \n",
       "SCROP00001                           0             0                 0.0   \n",
       "SCROP00002                           0             0                 0.0   \n",
       "SCROP00003                           0             0                 0.0   \n",
       "SCROP00004                           1             0                 0.0   \n",
       "SCROP00005                           0             0                 0.0   \n",
       "...                                ...           ...                 ...   \n",
       "SCROP79996                           1            20                12.0   \n",
       "SCROP79997                           1            20                12.0   \n",
       "SCROP79998                           1            10                14.0   \n",
       "SCROP79999                           1            10                16.0   \n",
       "SCROP80000                           1            20                11.0   \n",
       "\n",
       "                          Semanas_Sem_Uso  Temporada  dano_na_plantacao  \\\n",
       "Identificador_Agricultor                                                  \n",
       "SCROP00001                              0          1                  0   \n",
       "SCROP00002                              0          2                  1   \n",
       "SCROP00003                              0          2                  1   \n",
       "SCROP00004                              0          2                  1   \n",
       "SCROP00005                              0          2                  1   \n",
       "...                                   ...        ...                ...   \n",
       "SCROP79996                              6          2                  0   \n",
       "SCROP79997                              9          1                  0   \n",
       "SCROP79998                             10          1                  0   \n",
       "SCROP79999                              8          2                  0   \n",
       "SCROP80000                             10          2                  0   \n",
       "\n",
       "                          Categoria_Pesticida__1  Categoria_Pesticida__2  \\\n",
       "Identificador_Agricultor                                                   \n",
       "SCROP00001                                     1                       0   \n",
       "SCROP00002                                     1                       0   \n",
       "SCROP00003                                     1                       0   \n",
       "SCROP00004                                     1                       0   \n",
       "SCROP00005                                     1                       0   \n",
       "...                                          ...                     ...   \n",
       "SCROP79996                                     0                       1   \n",
       "SCROP79997                                     0                       1   \n",
       "SCROP79998                                     0                       1   \n",
       "SCROP79999                                     0                       1   \n",
       "SCROP80000                                     0                       1   \n",
       "\n",
       "                          Categoria_Pesticida__3  \n",
       "Identificador_Agricultor                          \n",
       "SCROP00001                                     0  \n",
       "SCROP00002                                     0  \n",
       "SCROP00003                                     0  \n",
       "SCROP00004                                     0  \n",
       "SCROP00005                                     0  \n",
       "...                                          ...  \n",
       "SCROP79996                                     0  \n",
       "SCROP79997                                     0  \n",
       "SCROP79998                                     0  \n",
       "SCROP79999                                     0  \n",
       "SCROP80000                                     0  \n",
       "\n",
       "[80000 rows x 11 columns]"
      ]
     },
     "execution_count": 22,
     "metadata": {},
     "output_type": "execute_result"
    }
   ],
   "source": [
    "one_hot = pd.get_dummies(safra18_19.Categoria_Pesticida, prefix='Categoria_Pesticida_')\n",
    "safra = safra18_19.drop('Categoria_Pesticida', axis = 1)\n",
    "safra = pd.concat([safra, one_hot], axis=1)\n",
    "safra"
   ]
  },
  {
   "cell_type": "markdown",
   "metadata": {},
   "source": [
    "##### TEMPORADA"
   ]
  },
  {
   "cell_type": "code",
   "execution_count": 23,
   "metadata": {
    "scrolled": true
   },
   "outputs": [
    {
     "data": {
      "text/html": [
       "<div>\n",
       "<style scoped>\n",
       "    .dataframe tbody tr th:only-of-type {\n",
       "        vertical-align: middle;\n",
       "    }\n",
       "\n",
       "    .dataframe tbody tr th {\n",
       "        vertical-align: top;\n",
       "    }\n",
       "\n",
       "    .dataframe thead th {\n",
       "        text-align: right;\n",
       "    }\n",
       "</style>\n",
       "<table border=\"1\" class=\"dataframe\">\n",
       "  <thead>\n",
       "    <tr style=\"text-align: right;\">\n",
       "      <th></th>\n",
       "      <th>Estimativa_de_Insetos</th>\n",
       "      <th>Tipo_de_Cultivo</th>\n",
       "      <th>Tipo_de_Solo</th>\n",
       "      <th>Doses_Semana</th>\n",
       "      <th>Semanas_Utilizando</th>\n",
       "      <th>Semanas_Sem_Uso</th>\n",
       "      <th>dano_na_plantacao</th>\n",
       "      <th>Categoria_Pesticida__1</th>\n",
       "      <th>Categoria_Pesticida__2</th>\n",
       "      <th>Categoria_Pesticida__3</th>\n",
       "      <th>Temporada__1</th>\n",
       "      <th>Temporada__2</th>\n",
       "      <th>Temporada__3</th>\n",
       "    </tr>\n",
       "    <tr>\n",
       "      <th>Identificador_Agricultor</th>\n",
       "      <th></th>\n",
       "      <th></th>\n",
       "      <th></th>\n",
       "      <th></th>\n",
       "      <th></th>\n",
       "      <th></th>\n",
       "      <th></th>\n",
       "      <th></th>\n",
       "      <th></th>\n",
       "      <th></th>\n",
       "      <th></th>\n",
       "      <th></th>\n",
       "      <th></th>\n",
       "    </tr>\n",
       "  </thead>\n",
       "  <tbody>\n",
       "    <tr>\n",
       "      <th>SCROP00001</th>\n",
       "      <td>188</td>\n",
       "      <td>1</td>\n",
       "      <td>0</td>\n",
       "      <td>0</td>\n",
       "      <td>0.0</td>\n",
       "      <td>0</td>\n",
       "      <td>0</td>\n",
       "      <td>1</td>\n",
       "      <td>0</td>\n",
       "      <td>0</td>\n",
       "      <td>1</td>\n",
       "      <td>0</td>\n",
       "      <td>0</td>\n",
       "    </tr>\n",
       "    <tr>\n",
       "      <th>SCROP00002</th>\n",
       "      <td>209</td>\n",
       "      <td>1</td>\n",
       "      <td>0</td>\n",
       "      <td>0</td>\n",
       "      <td>0.0</td>\n",
       "      <td>0</td>\n",
       "      <td>1</td>\n",
       "      <td>1</td>\n",
       "      <td>0</td>\n",
       "      <td>0</td>\n",
       "      <td>0</td>\n",
       "      <td>1</td>\n",
       "      <td>0</td>\n",
       "    </tr>\n",
       "    <tr>\n",
       "      <th>SCROP00003</th>\n",
       "      <td>257</td>\n",
       "      <td>1</td>\n",
       "      <td>0</td>\n",
       "      <td>0</td>\n",
       "      <td>0.0</td>\n",
       "      <td>0</td>\n",
       "      <td>1</td>\n",
       "      <td>1</td>\n",
       "      <td>0</td>\n",
       "      <td>0</td>\n",
       "      <td>0</td>\n",
       "      <td>1</td>\n",
       "      <td>0</td>\n",
       "    </tr>\n",
       "    <tr>\n",
       "      <th>SCROP00004</th>\n",
       "      <td>257</td>\n",
       "      <td>1</td>\n",
       "      <td>1</td>\n",
       "      <td>0</td>\n",
       "      <td>0.0</td>\n",
       "      <td>0</td>\n",
       "      <td>1</td>\n",
       "      <td>1</td>\n",
       "      <td>0</td>\n",
       "      <td>0</td>\n",
       "      <td>0</td>\n",
       "      <td>1</td>\n",
       "      <td>0</td>\n",
       "    </tr>\n",
       "    <tr>\n",
       "      <th>SCROP00005</th>\n",
       "      <td>342</td>\n",
       "      <td>1</td>\n",
       "      <td>0</td>\n",
       "      <td>0</td>\n",
       "      <td>0.0</td>\n",
       "      <td>0</td>\n",
       "      <td>1</td>\n",
       "      <td>1</td>\n",
       "      <td>0</td>\n",
       "      <td>0</td>\n",
       "      <td>0</td>\n",
       "      <td>1</td>\n",
       "      <td>0</td>\n",
       "    </tr>\n",
       "    <tr>\n",
       "      <th>...</th>\n",
       "      <td>...</td>\n",
       "      <td>...</td>\n",
       "      <td>...</td>\n",
       "      <td>...</td>\n",
       "      <td>...</td>\n",
       "      <td>...</td>\n",
       "      <td>...</td>\n",
       "      <td>...</td>\n",
       "      <td>...</td>\n",
       "      <td>...</td>\n",
       "      <td>...</td>\n",
       "      <td>...</td>\n",
       "      <td>...</td>\n",
       "    </tr>\n",
       "    <tr>\n",
       "      <th>SCROP79996</th>\n",
       "      <td>209</td>\n",
       "      <td>0</td>\n",
       "      <td>1</td>\n",
       "      <td>20</td>\n",
       "      <td>12.0</td>\n",
       "      <td>6</td>\n",
       "      <td>0</td>\n",
       "      <td>0</td>\n",
       "      <td>1</td>\n",
       "      <td>0</td>\n",
       "      <td>0</td>\n",
       "      <td>1</td>\n",
       "      <td>0</td>\n",
       "    </tr>\n",
       "    <tr>\n",
       "      <th>SCROP79997</th>\n",
       "      <td>232</td>\n",
       "      <td>0</td>\n",
       "      <td>1</td>\n",
       "      <td>20</td>\n",
       "      <td>12.0</td>\n",
       "      <td>9</td>\n",
       "      <td>0</td>\n",
       "      <td>0</td>\n",
       "      <td>1</td>\n",
       "      <td>0</td>\n",
       "      <td>1</td>\n",
       "      <td>0</td>\n",
       "      <td>0</td>\n",
       "    </tr>\n",
       "    <tr>\n",
       "      <th>SCROP79998</th>\n",
       "      <td>256</td>\n",
       "      <td>0</td>\n",
       "      <td>1</td>\n",
       "      <td>10</td>\n",
       "      <td>14.0</td>\n",
       "      <td>10</td>\n",
       "      <td>0</td>\n",
       "      <td>0</td>\n",
       "      <td>1</td>\n",
       "      <td>0</td>\n",
       "      <td>1</td>\n",
       "      <td>0</td>\n",
       "      <td>0</td>\n",
       "    </tr>\n",
       "    <tr>\n",
       "      <th>SCROP79999</th>\n",
       "      <td>256</td>\n",
       "      <td>0</td>\n",
       "      <td>1</td>\n",
       "      <td>10</td>\n",
       "      <td>16.0</td>\n",
       "      <td>8</td>\n",
       "      <td>0</td>\n",
       "      <td>0</td>\n",
       "      <td>1</td>\n",
       "      <td>0</td>\n",
       "      <td>0</td>\n",
       "      <td>1</td>\n",
       "      <td>0</td>\n",
       "    </tr>\n",
       "    <tr>\n",
       "      <th>SCROP80000</th>\n",
       "      <td>256</td>\n",
       "      <td>0</td>\n",
       "      <td>1</td>\n",
       "      <td>20</td>\n",
       "      <td>11.0</td>\n",
       "      <td>10</td>\n",
       "      <td>0</td>\n",
       "      <td>0</td>\n",
       "      <td>1</td>\n",
       "      <td>0</td>\n",
       "      <td>0</td>\n",
       "      <td>1</td>\n",
       "      <td>0</td>\n",
       "    </tr>\n",
       "  </tbody>\n",
       "</table>\n",
       "<p>80000 rows × 13 columns</p>\n",
       "</div>"
      ],
      "text/plain": [
       "                          Estimativa_de_Insetos  Tipo_de_Cultivo  \\\n",
       "Identificador_Agricultor                                           \n",
       "SCROP00001                                  188                1   \n",
       "SCROP00002                                  209                1   \n",
       "SCROP00003                                  257                1   \n",
       "SCROP00004                                  257                1   \n",
       "SCROP00005                                  342                1   \n",
       "...                                         ...              ...   \n",
       "SCROP79996                                  209                0   \n",
       "SCROP79997                                  232                0   \n",
       "SCROP79998                                  256                0   \n",
       "SCROP79999                                  256                0   \n",
       "SCROP80000                                  256                0   \n",
       "\n",
       "                          Tipo_de_Solo  Doses_Semana  Semanas_Utilizando  \\\n",
       "Identificador_Agricultor                                                   \n",
       "SCROP00001                           0             0                 0.0   \n",
       "SCROP00002                           0             0                 0.0   \n",
       "SCROP00003                           0             0                 0.0   \n",
       "SCROP00004                           1             0                 0.0   \n",
       "SCROP00005                           0             0                 0.0   \n",
       "...                                ...           ...                 ...   \n",
       "SCROP79996                           1            20                12.0   \n",
       "SCROP79997                           1            20                12.0   \n",
       "SCROP79998                           1            10                14.0   \n",
       "SCROP79999                           1            10                16.0   \n",
       "SCROP80000                           1            20                11.0   \n",
       "\n",
       "                          Semanas_Sem_Uso  dano_na_plantacao  \\\n",
       "Identificador_Agricultor                                       \n",
       "SCROP00001                              0                  0   \n",
       "SCROP00002                              0                  1   \n",
       "SCROP00003                              0                  1   \n",
       "SCROP00004                              0                  1   \n",
       "SCROP00005                              0                  1   \n",
       "...                                   ...                ...   \n",
       "SCROP79996                              6                  0   \n",
       "SCROP79997                              9                  0   \n",
       "SCROP79998                             10                  0   \n",
       "SCROP79999                              8                  0   \n",
       "SCROP80000                             10                  0   \n",
       "\n",
       "                          Categoria_Pesticida__1  Categoria_Pesticida__2  \\\n",
       "Identificador_Agricultor                                                   \n",
       "SCROP00001                                     1                       0   \n",
       "SCROP00002                                     1                       0   \n",
       "SCROP00003                                     1                       0   \n",
       "SCROP00004                                     1                       0   \n",
       "SCROP00005                                     1                       0   \n",
       "...                                          ...                     ...   \n",
       "SCROP79996                                     0                       1   \n",
       "SCROP79997                                     0                       1   \n",
       "SCROP79998                                     0                       1   \n",
       "SCROP79999                                     0                       1   \n",
       "SCROP80000                                     0                       1   \n",
       "\n",
       "                          Categoria_Pesticida__3  Temporada__1  Temporada__2  \\\n",
       "Identificador_Agricultor                                                       \n",
       "SCROP00001                                     0             1             0   \n",
       "SCROP00002                                     0             0             1   \n",
       "SCROP00003                                     0             0             1   \n",
       "SCROP00004                                     0             0             1   \n",
       "SCROP00005                                     0             0             1   \n",
       "...                                          ...           ...           ...   \n",
       "SCROP79996                                     0             0             1   \n",
       "SCROP79997                                     0             1             0   \n",
       "SCROP79998                                     0             1             0   \n",
       "SCROP79999                                     0             0             1   \n",
       "SCROP80000                                     0             0             1   \n",
       "\n",
       "                          Temporada__3  \n",
       "Identificador_Agricultor                \n",
       "SCROP00001                           0  \n",
       "SCROP00002                           0  \n",
       "SCROP00003                           0  \n",
       "SCROP00004                           0  \n",
       "SCROP00005                           0  \n",
       "...                                ...  \n",
       "SCROP79996                           0  \n",
       "SCROP79997                           0  \n",
       "SCROP79998                           0  \n",
       "SCROP79999                           0  \n",
       "SCROP80000                           0  \n",
       "\n",
       "[80000 rows x 13 columns]"
      ]
     },
     "execution_count": 23,
     "metadata": {},
     "output_type": "execute_result"
    }
   ],
   "source": [
    "one_hot = pd.get_dummies(safra18_19.Temporada, prefix='Temporada_')\n",
    "safra = safra.drop('Temporada', axis = 1)\n",
    "safra = pd.concat([safra, one_hot], axis=1)\n",
    "safra"
   ]
  },
  {
   "cell_type": "code",
   "execution_count": 24,
   "metadata": {},
   "outputs": [
    {
     "data": {
      "text/html": [
       "<div>\n",
       "<style scoped>\n",
       "    .dataframe tbody tr th:only-of-type {\n",
       "        vertical-align: middle;\n",
       "    }\n",
       "\n",
       "    .dataframe tbody tr th {\n",
       "        vertical-align: top;\n",
       "    }\n",
       "\n",
       "    .dataframe thead th {\n",
       "        text-align: right;\n",
       "    }\n",
       "</style>\n",
       "<table border=\"1\" class=\"dataframe\">\n",
       "  <thead>\n",
       "    <tr style=\"text-align: right;\">\n",
       "      <th></th>\n",
       "      <th>Estimativa_de_Insetos</th>\n",
       "      <th>Tipo_de_Cultivo</th>\n",
       "      <th>Tipo_de_Solo</th>\n",
       "      <th>Doses_Semana</th>\n",
       "      <th>Semanas_Utilizando</th>\n",
       "      <th>Semanas_Sem_Uso</th>\n",
       "      <th>dano_na_plantacao</th>\n",
       "      <th>Categoria_Pesticida__1</th>\n",
       "      <th>Categoria_Pesticida__2</th>\n",
       "      <th>Categoria_Pesticida__3</th>\n",
       "      <th>Temporada__1</th>\n",
       "      <th>Temporada__2</th>\n",
       "      <th>Temporada__3</th>\n",
       "    </tr>\n",
       "  </thead>\n",
       "  <tbody>\n",
       "    <tr>\n",
       "      <th>Estimativa_de_Insetos</th>\n",
       "      <td>1.000000</td>\n",
       "      <td>-0.090063</td>\n",
       "      <td>-0.056147</td>\n",
       "      <td>-0.101807</td>\n",
       "      <td>0.414125</td>\n",
       "      <td>0.298849</td>\n",
       "      <td>0.203290</td>\n",
       "      <td>0.028452</td>\n",
       "      <td>0.070564</td>\n",
       "      <td>-0.077471</td>\n",
       "      <td>-0.003939</td>\n",
       "      <td>0.003078</td>\n",
       "      <td>0.000677</td>\n",
       "    </tr>\n",
       "    <tr>\n",
       "      <th>Tipo_de_Cultivo</th>\n",
       "      <td>-0.090063</td>\n",
       "      <td>1.000000</td>\n",
       "      <td>-0.278775</td>\n",
       "      <td>-0.190884</td>\n",
       "      <td>-0.042741</td>\n",
       "      <td>-0.235928</td>\n",
       "      <td>-0.017228</td>\n",
       "      <td>0.059311</td>\n",
       "      <td>-0.270415</td>\n",
       "      <td>0.260329</td>\n",
       "      <td>-0.001094</td>\n",
       "      <td>-0.001910</td>\n",
       "      <td>0.003641</td>\n",
       "    </tr>\n",
       "    <tr>\n",
       "      <th>Tipo_de_Solo</th>\n",
       "      <td>-0.056147</td>\n",
       "      <td>-0.278775</td>\n",
       "      <td>1.000000</td>\n",
       "      <td>0.076580</td>\n",
       "      <td>-0.064807</td>\n",
       "      <td>0.006122</td>\n",
       "      <td>-0.021176</td>\n",
       "      <td>0.010179</td>\n",
       "      <td>-0.041288</td>\n",
       "      <td>0.039505</td>\n",
       "      <td>0.000090</td>\n",
       "      <td>-0.003067</td>\n",
       "      <td>0.003726</td>\n",
       "    </tr>\n",
       "    <tr>\n",
       "      <th>Doses_Semana</th>\n",
       "      <td>-0.101807</td>\n",
       "      <td>-0.190884</td>\n",
       "      <td>0.076580</td>\n",
       "      <td>1.000000</td>\n",
       "      <td>0.117444</td>\n",
       "      <td>-0.034144</td>\n",
       "      <td>-0.030476</td>\n",
       "      <td>-0.163032</td>\n",
       "      <td>0.073070</td>\n",
       "      <td>-0.038421</td>\n",
       "      <td>0.001636</td>\n",
       "      <td>0.000153</td>\n",
       "      <td>-0.002069</td>\n",
       "    </tr>\n",
       "    <tr>\n",
       "      <th>Semanas_Utilizando</th>\n",
       "      <td>0.414125</td>\n",
       "      <td>-0.042741</td>\n",
       "      <td>-0.064807</td>\n",
       "      <td>0.117444</td>\n",
       "      <td>1.000000</td>\n",
       "      <td>-0.424593</td>\n",
       "      <td>0.221034</td>\n",
       "      <td>-0.211245</td>\n",
       "      <td>-0.243684</td>\n",
       "      <td>0.292074</td>\n",
       "      <td>-0.004097</td>\n",
       "      <td>0.004987</td>\n",
       "      <td>-0.001525</td>\n",
       "    </tr>\n",
       "    <tr>\n",
       "      <th>Semanas_Sem_Uso</th>\n",
       "      <td>0.298849</td>\n",
       "      <td>-0.235928</td>\n",
       "      <td>0.006122</td>\n",
       "      <td>-0.034144</td>\n",
       "      <td>-0.424593</td>\n",
       "      <td>1.000000</td>\n",
       "      <td>-0.133115</td>\n",
       "      <td>-0.094599</td>\n",
       "      <td>0.611117</td>\n",
       "      <td>-0.596887</td>\n",
       "      <td>-0.000541</td>\n",
       "      <td>-0.003526</td>\n",
       "      <td>0.005025</td>\n",
       "    </tr>\n",
       "    <tr>\n",
       "      <th>dano_na_plantacao</th>\n",
       "      <td>0.203290</td>\n",
       "      <td>-0.017228</td>\n",
       "      <td>-0.021176</td>\n",
       "      <td>-0.030476</td>\n",
       "      <td>0.221034</td>\n",
       "      <td>-0.133115</td>\n",
       "      <td>1.000000</td>\n",
       "      <td>0.186822</td>\n",
       "      <td>-0.257666</td>\n",
       "      <td>0.219758</td>\n",
       "      <td>-0.001271</td>\n",
       "      <td>0.005473</td>\n",
       "      <td>-0.005376</td>\n",
       "    </tr>\n",
       "    <tr>\n",
       "      <th>Categoria_Pesticida__1</th>\n",
       "      <td>0.028452</td>\n",
       "      <td>0.059311</td>\n",
       "      <td>0.010179</td>\n",
       "      <td>-0.163032</td>\n",
       "      <td>-0.211245</td>\n",
       "      <td>-0.094599</td>\n",
       "      <td>0.186822</td>\n",
       "      <td>1.000000</td>\n",
       "      <td>-0.154796</td>\n",
       "      <td>-0.060758</td>\n",
       "      <td>-0.001993</td>\n",
       "      <td>0.009027</td>\n",
       "      <td>-0.008985</td>\n",
       "    </tr>\n",
       "    <tr>\n",
       "      <th>Categoria_Pesticida__2</th>\n",
       "      <td>0.070564</td>\n",
       "      <td>-0.270415</td>\n",
       "      <td>-0.041288</td>\n",
       "      <td>0.073070</td>\n",
       "      <td>-0.243684</td>\n",
       "      <td>0.611117</td>\n",
       "      <td>-0.257666</td>\n",
       "      <td>-0.154796</td>\n",
       "      <td>1.000000</td>\n",
       "      <td>-0.976716</td>\n",
       "      <td>0.001004</td>\n",
       "      <td>-0.002459</td>\n",
       "      <td>0.001918</td>\n",
       "    </tr>\n",
       "    <tr>\n",
       "      <th>Categoria_Pesticida__3</th>\n",
       "      <td>-0.077471</td>\n",
       "      <td>0.260329</td>\n",
       "      <td>0.039505</td>\n",
       "      <td>-0.038421</td>\n",
       "      <td>0.292074</td>\n",
       "      <td>-0.596887</td>\n",
       "      <td>0.219758</td>\n",
       "      <td>-0.060758</td>\n",
       "      <td>-0.976716</td>\n",
       "      <td>1.000000</td>\n",
       "      <td>-0.000582</td>\n",
       "      <td>0.000524</td>\n",
       "      <td>0.000013</td>\n",
       "    </tr>\n",
       "    <tr>\n",
       "      <th>Temporada__1</th>\n",
       "      <td>-0.003939</td>\n",
       "      <td>-0.001094</td>\n",
       "      <td>0.000090</td>\n",
       "      <td>0.001636</td>\n",
       "      <td>-0.004097</td>\n",
       "      <td>-0.000541</td>\n",
       "      <td>-0.001271</td>\n",
       "      <td>-0.001993</td>\n",
       "      <td>0.001004</td>\n",
       "      <td>-0.000582</td>\n",
       "      <td>1.000000</td>\n",
       "      <td>-0.654729</td>\n",
       "      <td>-0.330100</td>\n",
       "    </tr>\n",
       "    <tr>\n",
       "      <th>Temporada__2</th>\n",
       "      <td>0.003078</td>\n",
       "      <td>-0.001910</td>\n",
       "      <td>-0.003067</td>\n",
       "      <td>0.000153</td>\n",
       "      <td>0.004987</td>\n",
       "      <td>-0.003526</td>\n",
       "      <td>0.005473</td>\n",
       "      <td>0.009027</td>\n",
       "      <td>-0.002459</td>\n",
       "      <td>0.000524</td>\n",
       "      <td>-0.654729</td>\n",
       "      <td>1.000000</td>\n",
       "      <td>-0.497368</td>\n",
       "    </tr>\n",
       "    <tr>\n",
       "      <th>Temporada__3</th>\n",
       "      <td>0.000677</td>\n",
       "      <td>0.003641</td>\n",
       "      <td>0.003726</td>\n",
       "      <td>-0.002069</td>\n",
       "      <td>-0.001525</td>\n",
       "      <td>0.005025</td>\n",
       "      <td>-0.005376</td>\n",
       "      <td>-0.008985</td>\n",
       "      <td>0.001918</td>\n",
       "      <td>0.000013</td>\n",
       "      <td>-0.330100</td>\n",
       "      <td>-0.497368</td>\n",
       "      <td>1.000000</td>\n",
       "    </tr>\n",
       "  </tbody>\n",
       "</table>\n",
       "</div>"
      ],
      "text/plain": [
       "                        Estimativa_de_Insetos  Tipo_de_Cultivo  Tipo_de_Solo  \\\n",
       "Estimativa_de_Insetos                1.000000        -0.090063     -0.056147   \n",
       "Tipo_de_Cultivo                     -0.090063         1.000000     -0.278775   \n",
       "Tipo_de_Solo                        -0.056147        -0.278775      1.000000   \n",
       "Doses_Semana                        -0.101807        -0.190884      0.076580   \n",
       "Semanas_Utilizando                   0.414125        -0.042741     -0.064807   \n",
       "Semanas_Sem_Uso                      0.298849        -0.235928      0.006122   \n",
       "dano_na_plantacao                    0.203290        -0.017228     -0.021176   \n",
       "Categoria_Pesticida__1               0.028452         0.059311      0.010179   \n",
       "Categoria_Pesticida__2               0.070564        -0.270415     -0.041288   \n",
       "Categoria_Pesticida__3              -0.077471         0.260329      0.039505   \n",
       "Temporada__1                        -0.003939        -0.001094      0.000090   \n",
       "Temporada__2                         0.003078        -0.001910     -0.003067   \n",
       "Temporada__3                         0.000677         0.003641      0.003726   \n",
       "\n",
       "                        Doses_Semana  Semanas_Utilizando  Semanas_Sem_Uso  \\\n",
       "Estimativa_de_Insetos      -0.101807            0.414125         0.298849   \n",
       "Tipo_de_Cultivo            -0.190884           -0.042741        -0.235928   \n",
       "Tipo_de_Solo                0.076580           -0.064807         0.006122   \n",
       "Doses_Semana                1.000000            0.117444        -0.034144   \n",
       "Semanas_Utilizando          0.117444            1.000000        -0.424593   \n",
       "Semanas_Sem_Uso            -0.034144           -0.424593         1.000000   \n",
       "dano_na_plantacao          -0.030476            0.221034        -0.133115   \n",
       "Categoria_Pesticida__1     -0.163032           -0.211245        -0.094599   \n",
       "Categoria_Pesticida__2      0.073070           -0.243684         0.611117   \n",
       "Categoria_Pesticida__3     -0.038421            0.292074        -0.596887   \n",
       "Temporada__1                0.001636           -0.004097        -0.000541   \n",
       "Temporada__2                0.000153            0.004987        -0.003526   \n",
       "Temporada__3               -0.002069           -0.001525         0.005025   \n",
       "\n",
       "                        dano_na_plantacao  Categoria_Pesticida__1  \\\n",
       "Estimativa_de_Insetos            0.203290                0.028452   \n",
       "Tipo_de_Cultivo                 -0.017228                0.059311   \n",
       "Tipo_de_Solo                    -0.021176                0.010179   \n",
       "Doses_Semana                    -0.030476               -0.163032   \n",
       "Semanas_Utilizando               0.221034               -0.211245   \n",
       "Semanas_Sem_Uso                 -0.133115               -0.094599   \n",
       "dano_na_plantacao                1.000000                0.186822   \n",
       "Categoria_Pesticida__1           0.186822                1.000000   \n",
       "Categoria_Pesticida__2          -0.257666               -0.154796   \n",
       "Categoria_Pesticida__3           0.219758               -0.060758   \n",
       "Temporada__1                    -0.001271               -0.001993   \n",
       "Temporada__2                     0.005473                0.009027   \n",
       "Temporada__3                    -0.005376               -0.008985   \n",
       "\n",
       "                        Categoria_Pesticida__2  Categoria_Pesticida__3  \\\n",
       "Estimativa_de_Insetos                 0.070564               -0.077471   \n",
       "Tipo_de_Cultivo                      -0.270415                0.260329   \n",
       "Tipo_de_Solo                         -0.041288                0.039505   \n",
       "Doses_Semana                          0.073070               -0.038421   \n",
       "Semanas_Utilizando                   -0.243684                0.292074   \n",
       "Semanas_Sem_Uso                       0.611117               -0.596887   \n",
       "dano_na_plantacao                    -0.257666                0.219758   \n",
       "Categoria_Pesticida__1               -0.154796               -0.060758   \n",
       "Categoria_Pesticida__2                1.000000               -0.976716   \n",
       "Categoria_Pesticida__3               -0.976716                1.000000   \n",
       "Temporada__1                          0.001004               -0.000582   \n",
       "Temporada__2                         -0.002459                0.000524   \n",
       "Temporada__3                          0.001918                0.000013   \n",
       "\n",
       "                        Temporada__1  Temporada__2  Temporada__3  \n",
       "Estimativa_de_Insetos      -0.003939      0.003078      0.000677  \n",
       "Tipo_de_Cultivo            -0.001094     -0.001910      0.003641  \n",
       "Tipo_de_Solo                0.000090     -0.003067      0.003726  \n",
       "Doses_Semana                0.001636      0.000153     -0.002069  \n",
       "Semanas_Utilizando         -0.004097      0.004987     -0.001525  \n",
       "Semanas_Sem_Uso            -0.000541     -0.003526      0.005025  \n",
       "dano_na_plantacao          -0.001271      0.005473     -0.005376  \n",
       "Categoria_Pesticida__1     -0.001993      0.009027     -0.008985  \n",
       "Categoria_Pesticida__2      0.001004     -0.002459      0.001918  \n",
       "Categoria_Pesticida__3     -0.000582      0.000524      0.000013  \n",
       "Temporada__1                1.000000     -0.654729     -0.330100  \n",
       "Temporada__2               -0.654729      1.000000     -0.497368  \n",
       "Temporada__3               -0.330100     -0.497368      1.000000  "
      ]
     },
     "execution_count": 24,
     "metadata": {},
     "output_type": "execute_result"
    }
   ],
   "source": [
    "safra.corr()"
   ]
  },
  {
   "cell_type": "markdown",
   "metadata": {},
   "source": [
    "As únicas correlações são, as já esperadas, Categoria_Pesticida 2 e 3 devido a baixa freqüência de 1, Temporadas 1 e 2 e Categoria_Pesticida com Semanas_Sem_Uso. "
   ]
  },
  {
   "cell_type": "markdown",
   "metadata": {},
   "source": [
    "## SEPARANDO AS VARIAVEIS TESTE E DEFININDO PARAMETROS XGBOOST"
   ]
  },
  {
   "cell_type": "markdown",
   "metadata": {},
   "source": [
    "#### separando as respostas"
   ]
  },
  {
   "cell_type": "code",
   "execution_count": 25,
   "metadata": {},
   "outputs": [],
   "source": [
    "target = safra['dano_na_plantacao']\n",
    "data = safra.drop(columns=['dano_na_plantacao'])"
   ]
  },
  {
   "cell_type": "code",
   "execution_count": 26,
   "metadata": {},
   "outputs": [],
   "source": [
    "x_train, x_test,y_train, y_test = train_test_split(data, target, test_size=0.25, random_state=11)"
   ]
  },
  {
   "cell_type": "markdown",
   "metadata": {},
   "source": [
    "Através do train_test_split temos 75% dos dados separados para treinar o modelo e 25% para valida-lo "
   ]
  },
  {
   "cell_type": "markdown",
   "metadata": {},
   "source": [
    "#### DEFININDO PARAMETROS PARA O XGBOOST"
   ]
  },
  {
   "cell_type": "code",
   "execution_count": 27,
   "metadata": {},
   "outputs": [],
   "source": [
    "params = {\n",
    "    'max_depth': 6, \n",
    "    'learning_rate': 0.3,\n",
    "    'objective': 'multi:softmax',\n",
    "    'num_class': 3\n",
    "}\n"
   ]
  },
  {
   "cell_type": "markdown",
   "metadata": {},
   "source": [
    "Parâmetros definidos: Quão profundo ele cai em uma árvore de decisão; Taxa de aprendizado, foi deixado baixo para evitar overfitting e por termos uma boa quantidade de dados; Classificação para múlti classes pois temos 3 classes 1- Nunca Usou, 2-Já Usou, 3-Esta usando; Número de classes"
   ]
  },
  {
   "cell_type": "markdown",
   "metadata": {},
   "source": [
    "#### FUNCAO REPORT PARA OS MODELOS \n"
   ]
  },
  {
   "cell_type": "markdown",
   "metadata": {},
   "source": [
    "Função para imprimir valores de acurácia, precisão e F1 Score, facilitando a validação de cada modelo testado "
   ]
  },
  {
   "cell_type": "code",
   "execution_count": 28,
   "metadata": {},
   "outputs": [],
   "source": [
    "def gen_report(y, y_pred):\n",
    "    print(\"Acurácia = \", accuracy_score(y, y_pred))\n",
    "    print(\"Precisão = \", precision_score(y, y_pred, average = 'weighted', zero_division=0))\n",
    "    print(\"Recall = \", recall_score(y, y_pred, average = 'weighted'))\n",
    "    print(\"F1 Score = \", f1_score(y, y_pred, average = 'weighted'))"
   ]
  },
  {
   "cell_type": "markdown",
   "metadata": {},
   "source": [
    "## XGBOOST"
   ]
  },
  {
   "cell_type": "markdown",
   "metadata": {},
   "source": [
    "##### Rodando o XGBoost"
   ]
  },
  {
   "cell_type": "code",
   "execution_count": 29,
   "metadata": {},
   "outputs": [
    {
     "data": {
      "text/plain": [
       "XGBClassifier(base_score=0.5, booster='gbtree', colsample_bylevel=1,\n",
       "              colsample_bynode=1, colsample_bytree=1, gamma=0, gpu_id=-1,\n",
       "              importance_type='gain', interaction_constraints='',\n",
       "              learning_rate=0.300000012, max_delta_step=0, max_depth=6,\n",
       "              min_child_weight=1, missing=nan, monotone_constraints='()',\n",
       "              n_estimators=100, n_jobs=0, num_parallel_tree=1,\n",
       "              objective='multi:softprob', random_state=0, reg_alpha=0,\n",
       "              reg_lambda=1, scale_pos_weight=None, subsample=1,\n",
       "              tree_method='exact', validate_parameters=1, verbosity=None)"
      ]
     },
     "execution_count": 29,
     "metadata": {},
     "output_type": "execute_result"
    }
   ],
   "source": [
    "model =xgb.XGBClassifier(params)\n",
    "model.fit(x_train, y_train)"
   ]
  },
  {
   "cell_type": "markdown",
   "metadata": {},
   "source": [
    "Através do relatório gerado acima e da importância de cada coluna printada abaixo é que foram tomadas as decisões de tratamento dos dados e dos parâmetros"
   ]
  },
  {
   "cell_type": "code",
   "execution_count": 30,
   "metadata": {},
   "outputs": [
    {
     "data": {
      "text/plain": [
       "array([0.0591358 , 0.05541199, 0.02327682, 0.0620041 , 0.04884704,\n",
       "       0.02539585, 0.        , 0.6448816 , 0.01901543, 0.0205377 ,\n",
       "       0.02013015, 0.02136353], dtype=float32)"
      ]
     },
     "execution_count": 30,
     "metadata": {},
     "output_type": "execute_result"
    }
   ],
   "source": [
    "model.feature_importances_"
   ]
  },
  {
   "cell_type": "markdown",
   "metadata": {},
   "source": [
    "##### TESTANDO O MODELO"
   ]
  },
  {
   "cell_type": "code",
   "execution_count": 31,
   "metadata": {},
   "outputs": [],
   "source": [
    "predict = model.predict(x_test)"
   ]
  },
  {
   "cell_type": "code",
   "execution_count": 32,
   "metadata": {},
   "outputs": [
    {
     "name": "stdout",
     "output_type": "stream",
     "text": [
      "Acurácia =  0.84365\n",
      "Precisão =  0.8020570506297721\n",
      "Recall =  0.84365\n",
      "F1 Score =  0.8058736996398557\n"
     ]
    }
   ],
   "source": [
    "gen_report(y_test, predict)"
   ]
  },
  {
   "cell_type": "code",
   "execution_count": 33,
   "metadata": {},
   "outputs": [
    {
     "data": {
      "text/html": [
       "<div>\n",
       "<style scoped>\n",
       "    .dataframe tbody tr th:only-of-type {\n",
       "        vertical-align: middle;\n",
       "    }\n",
       "\n",
       "    .dataframe tbody tr th {\n",
       "        vertical-align: top;\n",
       "    }\n",
       "\n",
       "    .dataframe thead th {\n",
       "        text-align: right;\n",
       "    }\n",
       "</style>\n",
       "<table border=\"1\" class=\"dataframe\">\n",
       "  <thead>\n",
       "    <tr style=\"text-align: right;\">\n",
       "      <th></th>\n",
       "      <th>0</th>\n",
       "      <th>1</th>\n",
       "      <th>2</th>\n",
       "    </tr>\n",
       "  </thead>\n",
       "  <tbody>\n",
       "    <tr>\n",
       "      <th>0</th>\n",
       "      <td>16270</td>\n",
       "      <td>363</td>\n",
       "      <td>4</td>\n",
       "    </tr>\n",
       "    <tr>\n",
       "      <th>1</th>\n",
       "      <td>2226</td>\n",
       "      <td>599</td>\n",
       "      <td>3</td>\n",
       "    </tr>\n",
       "    <tr>\n",
       "      <th>2</th>\n",
       "      <td>353</td>\n",
       "      <td>178</td>\n",
       "      <td>4</td>\n",
       "    </tr>\n",
       "  </tbody>\n",
       "</table>\n",
       "</div>"
      ],
      "text/plain": [
       "       0    1  2\n",
       "0  16270  363  4\n",
       "1   2226  599  3\n",
       "2    353  178  4"
      ]
     },
     "execution_count": 33,
     "metadata": {},
     "output_type": "execute_result"
    }
   ],
   "source": [
    "pd.DataFrame.from_records(confusion_matrix(y_test, predict, labels=[0, 1, 2]))"
   ]
  },
  {
   "cell_type": "markdown",
   "metadata": {},
   "source": [
    "(hipótese) Através desta tabela podemos deduzir que a alta quantidade da resposta 0 desloca o aprendizado para esta resposta e se os dados fossem mais equilibrados o resultado seria diferente"
   ]
  },
  {
   "cell_type": "markdown",
   "metadata": {},
   "source": [
    "## TESTE EM LOGISTIC REGRESSION"
   ]
  },
  {
   "cell_type": "markdown",
   "metadata": {},
   "source": [
    "Para tirar a prova real fiz o teste em outra função de predição de facil uso"
   ]
  },
  {
   "cell_type": "code",
   "execution_count": 34,
   "metadata": {},
   "outputs": [],
   "source": [
    "clf = LogisticRegression(max_iter=100000, multi_class='multinomial').fit(x_train, y_train)"
   ]
  },
  {
   "cell_type": "markdown",
   "metadata": {},
   "source": [
    "Função também ajustada para múlti classes e com número máximo de 1mi de interações devido o grande volume de dados "
   ]
  },
  {
   "cell_type": "code",
   "execution_count": 35,
   "metadata": {},
   "outputs": [],
   "source": [
    "y_Test_Pred = clf.predict(x_test)\n"
   ]
  },
  {
   "cell_type": "code",
   "execution_count": 36,
   "metadata": {},
   "outputs": [
    {
     "name": "stdout",
     "output_type": "stream",
     "text": [
      "Acurácia =  0.8354\n",
      "Precisão =  0.773431526376921\n",
      "Recall =  0.8354\n",
      "F1 Score =  0.7842692529999503\n"
     ]
    }
   ],
   "source": [
    "gen_report(y_test, y_Test_Pred)"
   ]
  },
  {
   "cell_type": "code",
   "execution_count": 37,
   "metadata": {},
   "outputs": [
    {
     "data": {
      "text/html": [
       "<div>\n",
       "<style scoped>\n",
       "    .dataframe tbody tr th:only-of-type {\n",
       "        vertical-align: middle;\n",
       "    }\n",
       "\n",
       "    .dataframe tbody tr th {\n",
       "        vertical-align: top;\n",
       "    }\n",
       "\n",
       "    .dataframe thead th {\n",
       "        text-align: right;\n",
       "    }\n",
       "</style>\n",
       "<table border=\"1\" class=\"dataframe\">\n",
       "  <thead>\n",
       "    <tr style=\"text-align: right;\">\n",
       "      <th></th>\n",
       "      <th>0</th>\n",
       "      <th>1</th>\n",
       "      <th>2</th>\n",
       "    </tr>\n",
       "  </thead>\n",
       "  <tbody>\n",
       "    <tr>\n",
       "      <th>0</th>\n",
       "      <td>16381</td>\n",
       "      <td>256</td>\n",
       "      <td>0</td>\n",
       "    </tr>\n",
       "    <tr>\n",
       "      <th>1</th>\n",
       "      <td>2501</td>\n",
       "      <td>327</td>\n",
       "      <td>0</td>\n",
       "    </tr>\n",
       "    <tr>\n",
       "      <th>2</th>\n",
       "      <td>440</td>\n",
       "      <td>95</td>\n",
       "      <td>0</td>\n",
       "    </tr>\n",
       "  </tbody>\n",
       "</table>\n",
       "</div>"
      ],
      "text/plain": [
       "       0    1  2\n",
       "0  16381  256  0\n",
       "1   2501  327  0\n",
       "2    440   95  0"
      ]
     },
     "execution_count": 37,
     "metadata": {},
     "output_type": "execute_result"
    }
   ],
   "source": [
    "pd.DataFrame.from_records(confusion_matrix(y_test, y_Test_Pred, labels=[0, 1, 2]))"
   ]
  },
  {
   "cell_type": "markdown",
   "metadata": {},
   "source": [
    "Os resultados foram ainda piores com a resposta 2 nem mesmo sendo escolhida, mostrando maior eficiência do XGBoost."
   ]
  },
  {
   "cell_type": "markdown",
   "metadata": {},
   "source": [
    "## Rodar novamente utilizando Under-sampling"
   ]
  },
  {
   "cell_type": "markdown",
   "metadata": {},
   "source": [
    "O Under-sampling consiste em diminuir a quantidade dos outros dados para não deslocar a decisão para o lado com o maior número de respostas oferecendo uma representação mais equilibrada nos clusters. Aplicando esta técnica esperamos que a precisão aumente "
   ]
  },
  {
   "cell_type": "markdown",
   "metadata": {},
   "source": [
    "Observando a frequência de cada resposta"
   ]
  },
  {
   "cell_type": "code",
   "execution_count": 38,
   "metadata": {},
   "outputs": [
    {
     "data": {
      "text/plain": [
       "0    66716\n",
       "1    11183\n",
       "2     2101\n",
       "Name: dano_na_plantacao, dtype: int64"
      ]
     },
     "execution_count": 38,
     "metadata": {},
     "output_type": "execute_result"
    }
   ],
   "source": [
    "safra.dano_na_plantacao.value_counts()"
   ]
  },
  {
   "cell_type": "markdown",
   "metadata": {},
   "source": [
    "Armazenando o menor valor"
   ]
  },
  {
   "cell_type": "code",
   "execution_count": 39,
   "metadata": {},
   "outputs": [
    {
     "data": {
      "text/plain": [
       "2101"
      ]
     },
     "execution_count": 39,
     "metadata": {},
     "output_type": "execute_result"
    }
   ],
   "source": [
    "menor_len = len(safra[safra['dano_na_plantacao']==2])\n",
    "menor_len"
   ]
  },
  {
   "cell_type": "markdown",
   "metadata": {},
   "source": [
    "Armazenando os índices"
   ]
  },
  {
   "cell_type": "code",
   "execution_count": 40,
   "metadata": {},
   "outputs": [],
   "source": [
    "class_2_indices = safra[safra['dano_na_plantacao']==2].index\n",
    "class_1_indices = safra[safra['dano_na_plantacao']==1].index\n",
    "class_0_indices = safra[safra['dano_na_plantacao']==0].index"
   ]
  },
  {
   "cell_type": "markdown",
   "metadata": {},
   "source": [
    "Pegando a mesma qauntidade de indices de forma aleatoria "
   ]
  },
  {
   "cell_type": "code",
   "execution_count": 41,
   "metadata": {},
   "outputs": [
    {
     "name": "stdout",
     "output_type": "stream",
     "text": [
      "2101\n"
     ]
    }
   ],
   "source": [
    "random_1_indices = np.random.choice(class_1_indices, menor_len, replace=False)\n",
    "random_0_indices = np.random.choice(class_0_indices, menor_len, replace=False)\n",
    "print(len(random_1_indices))"
   ]
  },
  {
   "cell_type": "markdown",
   "metadata": {},
   "source": [
    "Juntando todos os índices"
   ]
  },
  {
   "cell_type": "code",
   "execution_count": 42,
   "metadata": {},
   "outputs": [],
   "source": [
    "sample_indices = np.concatenate([class_2_indices, random_1_indices, random_0_indices])"
   ]
  },
  {
   "cell_type": "markdown",
   "metadata": {},
   "source": [
    "Montando o dataset com as respostas equilibradas"
   ]
  },
  {
   "cell_type": "code",
   "execution_count": 43,
   "metadata": {},
   "outputs": [
    {
     "data": {
      "text/plain": [
       "2    2101\n",
       "1    2101\n",
       "0    2101\n",
       "Name: dano_na_plantacao, dtype: int64"
      ]
     },
     "execution_count": 43,
     "metadata": {},
     "output_type": "execute_result"
    }
   ],
   "source": [
    "sample = safra.loc[sample_indices]\n",
    "sample.dano_na_plantacao.value_counts()"
   ]
  },
  {
   "cell_type": "markdown",
   "metadata": {},
   "source": [
    "#### separando as respostas do novo dataset"
   ]
  },
  {
   "cell_type": "code",
   "execution_count": 44,
   "metadata": {},
   "outputs": [],
   "source": [
    "Y=sample['dano_na_plantacao']\n",
    "X=sample.drop(columns=['dano_na_plantacao'])"
   ]
  },
  {
   "cell_type": "code",
   "execution_count": 45,
   "metadata": {},
   "outputs": [],
   "source": [
    "X_train, X_test,Y_train, Y_test = train_test_split(X, Y, test_size=0.25, random_state=5)"
   ]
  },
  {
   "cell_type": "markdown",
   "metadata": {},
   "source": [
    "Novamente 25% para validação do modelo "
   ]
  },
  {
   "cell_type": "markdown",
   "metadata": {},
   "source": [
    "### TESTANDO MODELO COM UNDER SAMPLE"
   ]
  },
  {
   "cell_type": "code",
   "execution_count": 46,
   "metadata": {},
   "outputs": [
    {
     "data": {
      "text/plain": [
       "XGBClassifier(base_score=0.5, booster='gbtree', colsample_bylevel=1,\n",
       "              colsample_bynode=1, colsample_bytree=1, gamma=0, gpu_id=-1,\n",
       "              importance_type='gain', interaction_constraints='',\n",
       "              learning_rate=0.300000012, max_delta_step=0, max_depth=6,\n",
       "              min_child_weight=1, missing=nan, monotone_constraints='()',\n",
       "              n_estimators=100, n_jobs=0, num_parallel_tree=1,\n",
       "              objective='multi:softprob', random_state=0, reg_alpha=0,\n",
       "              reg_lambda=1, scale_pos_weight=None, subsample=1,\n",
       "              tree_method='exact', validate_parameters=1, verbosity=None)"
      ]
     },
     "execution_count": 46,
     "metadata": {},
     "output_type": "execute_result"
    }
   ],
   "source": [
    "model_US = xgb.XGBClassifier(params)\n",
    "model_US.fit(X_train, Y_train)"
   ]
  },
  {
   "cell_type": "code",
   "execution_count": 47,
   "metadata": {},
   "outputs": [
    {
     "data": {
      "text/plain": [
       "array([0.04030989, 0.03304008, 0.02605064, 0.03987377, 0.03564219,\n",
       "       0.03303764, 0.        , 0.68887794, 0.01783149, 0.02936131,\n",
       "       0.02624853, 0.02972649], dtype=float32)"
      ]
     },
     "execution_count": 47,
     "metadata": {},
     "output_type": "execute_result"
    }
   ],
   "source": [
    "model_US.feature_importances_"
   ]
  },
  {
   "cell_type": "markdown",
   "metadata": {},
   "source": [
    "Se mostra muito similar ao modelo sem under sampling"
   ]
  },
  {
   "cell_type": "code",
   "execution_count": 48,
   "metadata": {},
   "outputs": [
    {
     "name": "stdout",
     "output_type": "stream",
     "text": [
      "Acurácia =  0.4251269035532995\n",
      "Precisão =  0.5599443403176267\n",
      "Recall =  0.4251269035532995\n",
      "F1 Score =  0.3189156235123441\n"
     ]
    }
   ],
   "source": [
    "predict_US = model.predict(X_test)\n",
    "gen_report(Y_test, predict_US)"
   ]
  },
  {
   "cell_type": "markdown",
   "metadata": {},
   "source": [
    "Apesar da baixa eficiência nos dados de teste, vamos ver como ele prevê os dados sem under sampling"
   ]
  },
  {
   "cell_type": "code",
   "execution_count": 49,
   "metadata": {},
   "outputs": [
    {
     "name": "stdout",
     "output_type": "stream",
     "text": [
      "Acurácia =  0.84365\n",
      "Precisão =  0.8020570506297721\n",
      "Recall =  0.84365\n",
      "F1 Score =  0.8058736996398557\n"
     ]
    }
   ],
   "source": [
    "predict_US_all = model.predict(x_test)\n",
    "gen_report(y_test, predict_US_all)"
   ]
  },
  {
   "cell_type": "code",
   "execution_count": 50,
   "metadata": {},
   "outputs": [
    {
     "data": {
      "text/html": [
       "<div>\n",
       "<style scoped>\n",
       "    .dataframe tbody tr th:only-of-type {\n",
       "        vertical-align: middle;\n",
       "    }\n",
       "\n",
       "    .dataframe tbody tr th {\n",
       "        vertical-align: top;\n",
       "    }\n",
       "\n",
       "    .dataframe thead th {\n",
       "        text-align: right;\n",
       "    }\n",
       "</style>\n",
       "<table border=\"1\" class=\"dataframe\">\n",
       "  <thead>\n",
       "    <tr style=\"text-align: right;\">\n",
       "      <th></th>\n",
       "      <th>0</th>\n",
       "      <th>1</th>\n",
       "      <th>2</th>\n",
       "    </tr>\n",
       "  </thead>\n",
       "  <tbody>\n",
       "    <tr>\n",
       "      <th>0</th>\n",
       "      <td>16270</td>\n",
       "      <td>363</td>\n",
       "      <td>4</td>\n",
       "    </tr>\n",
       "    <tr>\n",
       "      <th>1</th>\n",
       "      <td>2226</td>\n",
       "      <td>599</td>\n",
       "      <td>3</td>\n",
       "    </tr>\n",
       "    <tr>\n",
       "      <th>2</th>\n",
       "      <td>353</td>\n",
       "      <td>178</td>\n",
       "      <td>4</td>\n",
       "    </tr>\n",
       "  </tbody>\n",
       "</table>\n",
       "</div>"
      ],
      "text/plain": [
       "       0    1  2\n",
       "0  16270  363  4\n",
       "1   2226  599  3\n",
       "2    353  178  4"
      ]
     },
     "execution_count": 50,
     "metadata": {},
     "output_type": "execute_result"
    }
   ],
   "source": [
    "pd.DataFrame.from_records(confusion_matrix(y_test, predict_US_all, labels=[0, 1, 2]))"
   ]
  },
  {
   "cell_type": "markdown",
   "metadata": {},
   "source": [
    "#### CONCLUSÃO"
   ]
  },
  {
   "cell_type": "markdown",
   "metadata": {},
   "source": [
    "Mesmo com o under sampling o resultado foi exatamente o mesmo, mostrando que os dados, da maneira que estão dispostos, convergem para a resposta \"0\" sendo, portanto, necessário tratamento nos dados que não foram testados ou outra abordagem como, por exemplo, visualizar de forma binaria se houve ou não danos na plantação e depois se o dano foi por pesticidas ou por outros motivos."
   ]
  },
  {
   "cell_type": "markdown",
   "metadata": {},
   "source": [
    "## GERAR RESPOSTA"
   ]
  },
  {
   "cell_type": "markdown",
   "metadata": {},
   "source": [
    "### TRATAR OS DADOS PARA QUE FIQUEM IGUAIS AOS DE 2018 E 2019"
   ]
  },
  {
   "cell_type": "markdown",
   "metadata": {},
   "source": [
    "##### CATEGORIA PESTICIDA"
   ]
  },
  {
   "cell_type": "code",
   "execution_count": 51,
   "metadata": {
    "scrolled": true
   },
   "outputs": [
    {
     "data": {
      "text/html": [
       "<div>\n",
       "<style scoped>\n",
       "    .dataframe tbody tr th:only-of-type {\n",
       "        vertical-align: middle;\n",
       "    }\n",
       "\n",
       "    .dataframe tbody tr th {\n",
       "        vertical-align: top;\n",
       "    }\n",
       "\n",
       "    .dataframe thead th {\n",
       "        text-align: right;\n",
       "    }\n",
       "</style>\n",
       "<table border=\"1\" class=\"dataframe\">\n",
       "  <thead>\n",
       "    <tr style=\"text-align: right;\">\n",
       "      <th></th>\n",
       "      <th>Estimativa_de_Insetos</th>\n",
       "      <th>Tipo_de_Cultivo</th>\n",
       "      <th>Tipo_de_Solo</th>\n",
       "      <th>Doses_Semana</th>\n",
       "      <th>Semanas_Utilizando</th>\n",
       "      <th>Semanas_Sem_Uso</th>\n",
       "      <th>Temporada</th>\n",
       "      <th>Categoria_Pesticida__1</th>\n",
       "      <th>Categoria_Pesticida__2</th>\n",
       "      <th>Categoria_Pesticida__3</th>\n",
       "    </tr>\n",
       "    <tr>\n",
       "      <th>Identificador_Agricultor</th>\n",
       "      <th></th>\n",
       "      <th></th>\n",
       "      <th></th>\n",
       "      <th></th>\n",
       "      <th></th>\n",
       "      <th></th>\n",
       "      <th></th>\n",
       "      <th></th>\n",
       "      <th></th>\n",
       "      <th></th>\n",
       "    </tr>\n",
       "  </thead>\n",
       "  <tbody>\n",
       "    <tr>\n",
       "      <th>SCROP80001</th>\n",
       "      <td>256</td>\n",
       "      <td>0</td>\n",
       "      <td>1</td>\n",
       "      <td>35</td>\n",
       "      <td>11.0</td>\n",
       "      <td>9</td>\n",
       "      <td>1</td>\n",
       "      <td>0</td>\n",
       "      <td>1</td>\n",
       "      <td>0</td>\n",
       "    </tr>\n",
       "    <tr>\n",
       "      <th>SCROP80002</th>\n",
       "      <td>283</td>\n",
       "      <td>0</td>\n",
       "      <td>1</td>\n",
       "      <td>5</td>\n",
       "      <td>5.0</td>\n",
       "      <td>6</td>\n",
       "      <td>1</td>\n",
       "      <td>0</td>\n",
       "      <td>1</td>\n",
       "      <td>0</td>\n",
       "    </tr>\n",
       "    <tr>\n",
       "      <th>SCROP80003</th>\n",
       "      <td>283</td>\n",
       "      <td>0</td>\n",
       "      <td>1</td>\n",
       "      <td>15</td>\n",
       "      <td>15.0</td>\n",
       "      <td>5</td>\n",
       "      <td>2</td>\n",
       "      <td>0</td>\n",
       "      <td>1</td>\n",
       "      <td>0</td>\n",
       "    </tr>\n",
       "    <tr>\n",
       "      <th>SCROP80004</th>\n",
       "      <td>283</td>\n",
       "      <td>0</td>\n",
       "      <td>1</td>\n",
       "      <td>15</td>\n",
       "      <td>27.0</td>\n",
       "      <td>7</td>\n",
       "      <td>2</td>\n",
       "      <td>0</td>\n",
       "      <td>1</td>\n",
       "      <td>0</td>\n",
       "    </tr>\n",
       "    <tr>\n",
       "      <th>SCROP80005</th>\n",
       "      <td>283</td>\n",
       "      <td>0</td>\n",
       "      <td>1</td>\n",
       "      <td>15</td>\n",
       "      <td>19.0</td>\n",
       "      <td>2</td>\n",
       "      <td>1</td>\n",
       "      <td>0</td>\n",
       "      <td>1</td>\n",
       "      <td>0</td>\n",
       "    </tr>\n",
       "    <tr>\n",
       "      <th>...</th>\n",
       "      <td>...</td>\n",
       "      <td>...</td>\n",
       "      <td>...</td>\n",
       "      <td>...</td>\n",
       "      <td>...</td>\n",
       "      <td>...</td>\n",
       "      <td>...</td>\n",
       "      <td>...</td>\n",
       "      <td>...</td>\n",
       "      <td>...</td>\n",
       "    </tr>\n",
       "    <tr>\n",
       "      <th>SCROP88854</th>\n",
       "      <td>3337</td>\n",
       "      <td>1</td>\n",
       "      <td>0</td>\n",
       "      <td>10</td>\n",
       "      <td>12.0</td>\n",
       "      <td>44</td>\n",
       "      <td>3</td>\n",
       "      <td>0</td>\n",
       "      <td>1</td>\n",
       "      <td>0</td>\n",
       "    </tr>\n",
       "    <tr>\n",
       "      <th>SCROP88855</th>\n",
       "      <td>3516</td>\n",
       "      <td>1</td>\n",
       "      <td>0</td>\n",
       "      <td>10</td>\n",
       "      <td>20.0</td>\n",
       "      <td>38</td>\n",
       "      <td>1</td>\n",
       "      <td>0</td>\n",
       "      <td>1</td>\n",
       "      <td>0</td>\n",
       "    </tr>\n",
       "    <tr>\n",
       "      <th>SCROP88856</th>\n",
       "      <td>3516</td>\n",
       "      <td>1</td>\n",
       "      <td>0</td>\n",
       "      <td>15</td>\n",
       "      <td>40.0</td>\n",
       "      <td>8</td>\n",
       "      <td>2</td>\n",
       "      <td>0</td>\n",
       "      <td>1</td>\n",
       "      <td>0</td>\n",
       "    </tr>\n",
       "    <tr>\n",
       "      <th>SCROP88857</th>\n",
       "      <td>3702</td>\n",
       "      <td>1</td>\n",
       "      <td>0</td>\n",
       "      <td>10</td>\n",
       "      <td>25.0</td>\n",
       "      <td>18</td>\n",
       "      <td>3</td>\n",
       "      <td>0</td>\n",
       "      <td>1</td>\n",
       "      <td>0</td>\n",
       "    </tr>\n",
       "    <tr>\n",
       "      <th>SCROP88858</th>\n",
       "      <td>3895</td>\n",
       "      <td>1</td>\n",
       "      <td>0</td>\n",
       "      <td>20</td>\n",
       "      <td>37.0</td>\n",
       "      <td>7</td>\n",
       "      <td>3</td>\n",
       "      <td>0</td>\n",
       "      <td>1</td>\n",
       "      <td>0</td>\n",
       "    </tr>\n",
       "  </tbody>\n",
       "</table>\n",
       "<p>8858 rows × 10 columns</p>\n",
       "</div>"
      ],
      "text/plain": [
       "                          Estimativa_de_Insetos  Tipo_de_Cultivo  \\\n",
       "Identificador_Agricultor                                           \n",
       "SCROP80001                                  256                0   \n",
       "SCROP80002                                  283                0   \n",
       "SCROP80003                                  283                0   \n",
       "SCROP80004                                  283                0   \n",
       "SCROP80005                                  283                0   \n",
       "...                                         ...              ...   \n",
       "SCROP88854                                 3337                1   \n",
       "SCROP88855                                 3516                1   \n",
       "SCROP88856                                 3516                1   \n",
       "SCROP88857                                 3702                1   \n",
       "SCROP88858                                 3895                1   \n",
       "\n",
       "                          Tipo_de_Solo  Doses_Semana  Semanas_Utilizando  \\\n",
       "Identificador_Agricultor                                                   \n",
       "SCROP80001                           1            35                11.0   \n",
       "SCROP80002                           1             5                 5.0   \n",
       "SCROP80003                           1            15                15.0   \n",
       "SCROP80004                           1            15                27.0   \n",
       "SCROP80005                           1            15                19.0   \n",
       "...                                ...           ...                 ...   \n",
       "SCROP88854                           0            10                12.0   \n",
       "SCROP88855                           0            10                20.0   \n",
       "SCROP88856                           0            15                40.0   \n",
       "SCROP88857                           0            10                25.0   \n",
       "SCROP88858                           0            20                37.0   \n",
       "\n",
       "                          Semanas_Sem_Uso  Temporada  Categoria_Pesticida__1  \\\n",
       "Identificador_Agricultor                                                       \n",
       "SCROP80001                              9          1                       0   \n",
       "SCROP80002                              6          1                       0   \n",
       "SCROP80003                              5          2                       0   \n",
       "SCROP80004                              7          2                       0   \n",
       "SCROP80005                              2          1                       0   \n",
       "...                                   ...        ...                     ...   \n",
       "SCROP88854                             44          3                       0   \n",
       "SCROP88855                             38          1                       0   \n",
       "SCROP88856                              8          2                       0   \n",
       "SCROP88857                             18          3                       0   \n",
       "SCROP88858                              7          3                       0   \n",
       "\n",
       "                          Categoria_Pesticida__2  Categoria_Pesticida__3  \n",
       "Identificador_Agricultor                                                  \n",
       "SCROP80001                                     1                       0  \n",
       "SCROP80002                                     1                       0  \n",
       "SCROP80003                                     1                       0  \n",
       "SCROP80004                                     1                       0  \n",
       "SCROP80005                                     1                       0  \n",
       "...                                          ...                     ...  \n",
       "SCROP88854                                     1                       0  \n",
       "SCROP88855                                     1                       0  \n",
       "SCROP88856                                     1                       0  \n",
       "SCROP88857                                     1                       0  \n",
       "SCROP88858                                     1                       0  \n",
       "\n",
       "[8858 rows x 10 columns]"
      ]
     },
     "execution_count": 51,
     "metadata": {},
     "output_type": "execute_result"
    }
   ],
   "source": [
    "one_hot = pd.get_dummies(safra20.Categoria_Pesticida, prefix='Categoria_Pesticida_')\n",
    "safra20 = safra20.drop('Categoria_Pesticida', axis = 1)\n",
    "safra20 = pd.concat([safra20, one_hot], axis=1)\n",
    "safra20"
   ]
  },
  {
   "cell_type": "markdown",
   "metadata": {},
   "source": [
    "##### TEMPORADA"
   ]
  },
  {
   "cell_type": "code",
   "execution_count": 52,
   "metadata": {
    "scrolled": true
   },
   "outputs": [
    {
     "data": {
      "text/html": [
       "<div>\n",
       "<style scoped>\n",
       "    .dataframe tbody tr th:only-of-type {\n",
       "        vertical-align: middle;\n",
       "    }\n",
       "\n",
       "    .dataframe tbody tr th {\n",
       "        vertical-align: top;\n",
       "    }\n",
       "\n",
       "    .dataframe thead th {\n",
       "        text-align: right;\n",
       "    }\n",
       "</style>\n",
       "<table border=\"1\" class=\"dataframe\">\n",
       "  <thead>\n",
       "    <tr style=\"text-align: right;\">\n",
       "      <th></th>\n",
       "      <th>Estimativa_de_Insetos</th>\n",
       "      <th>Tipo_de_Cultivo</th>\n",
       "      <th>Tipo_de_Solo</th>\n",
       "      <th>Doses_Semana</th>\n",
       "      <th>Semanas_Utilizando</th>\n",
       "      <th>Semanas_Sem_Uso</th>\n",
       "      <th>Categoria_Pesticida__1</th>\n",
       "      <th>Categoria_Pesticida__2</th>\n",
       "      <th>Categoria_Pesticida__3</th>\n",
       "      <th>Temporada__1</th>\n",
       "      <th>Temporada__2</th>\n",
       "      <th>Temporada__3</th>\n",
       "    </tr>\n",
       "    <tr>\n",
       "      <th>Identificador_Agricultor</th>\n",
       "      <th></th>\n",
       "      <th></th>\n",
       "      <th></th>\n",
       "      <th></th>\n",
       "      <th></th>\n",
       "      <th></th>\n",
       "      <th></th>\n",
       "      <th></th>\n",
       "      <th></th>\n",
       "      <th></th>\n",
       "      <th></th>\n",
       "      <th></th>\n",
       "    </tr>\n",
       "  </thead>\n",
       "  <tbody>\n",
       "    <tr>\n",
       "      <th>SCROP80001</th>\n",
       "      <td>256</td>\n",
       "      <td>0</td>\n",
       "      <td>1</td>\n",
       "      <td>35</td>\n",
       "      <td>11.0</td>\n",
       "      <td>9</td>\n",
       "      <td>0</td>\n",
       "      <td>1</td>\n",
       "      <td>0</td>\n",
       "      <td>1</td>\n",
       "      <td>0</td>\n",
       "      <td>0</td>\n",
       "    </tr>\n",
       "    <tr>\n",
       "      <th>SCROP80002</th>\n",
       "      <td>283</td>\n",
       "      <td>0</td>\n",
       "      <td>1</td>\n",
       "      <td>5</td>\n",
       "      <td>5.0</td>\n",
       "      <td>6</td>\n",
       "      <td>0</td>\n",
       "      <td>1</td>\n",
       "      <td>0</td>\n",
       "      <td>1</td>\n",
       "      <td>0</td>\n",
       "      <td>0</td>\n",
       "    </tr>\n",
       "    <tr>\n",
       "      <th>SCROP80003</th>\n",
       "      <td>283</td>\n",
       "      <td>0</td>\n",
       "      <td>1</td>\n",
       "      <td>15</td>\n",
       "      <td>15.0</td>\n",
       "      <td>5</td>\n",
       "      <td>0</td>\n",
       "      <td>1</td>\n",
       "      <td>0</td>\n",
       "      <td>0</td>\n",
       "      <td>1</td>\n",
       "      <td>0</td>\n",
       "    </tr>\n",
       "    <tr>\n",
       "      <th>SCROP80004</th>\n",
       "      <td>283</td>\n",
       "      <td>0</td>\n",
       "      <td>1</td>\n",
       "      <td>15</td>\n",
       "      <td>27.0</td>\n",
       "      <td>7</td>\n",
       "      <td>0</td>\n",
       "      <td>1</td>\n",
       "      <td>0</td>\n",
       "      <td>0</td>\n",
       "      <td>1</td>\n",
       "      <td>0</td>\n",
       "    </tr>\n",
       "    <tr>\n",
       "      <th>SCROP80005</th>\n",
       "      <td>283</td>\n",
       "      <td>0</td>\n",
       "      <td>1</td>\n",
       "      <td>15</td>\n",
       "      <td>19.0</td>\n",
       "      <td>2</td>\n",
       "      <td>0</td>\n",
       "      <td>1</td>\n",
       "      <td>0</td>\n",
       "      <td>1</td>\n",
       "      <td>0</td>\n",
       "      <td>0</td>\n",
       "    </tr>\n",
       "    <tr>\n",
       "      <th>...</th>\n",
       "      <td>...</td>\n",
       "      <td>...</td>\n",
       "      <td>...</td>\n",
       "      <td>...</td>\n",
       "      <td>...</td>\n",
       "      <td>...</td>\n",
       "      <td>...</td>\n",
       "      <td>...</td>\n",
       "      <td>...</td>\n",
       "      <td>...</td>\n",
       "      <td>...</td>\n",
       "      <td>...</td>\n",
       "    </tr>\n",
       "    <tr>\n",
       "      <th>SCROP88854</th>\n",
       "      <td>3337</td>\n",
       "      <td>1</td>\n",
       "      <td>0</td>\n",
       "      <td>10</td>\n",
       "      <td>12.0</td>\n",
       "      <td>44</td>\n",
       "      <td>0</td>\n",
       "      <td>1</td>\n",
       "      <td>0</td>\n",
       "      <td>0</td>\n",
       "      <td>0</td>\n",
       "      <td>1</td>\n",
       "    </tr>\n",
       "    <tr>\n",
       "      <th>SCROP88855</th>\n",
       "      <td>3516</td>\n",
       "      <td>1</td>\n",
       "      <td>0</td>\n",
       "      <td>10</td>\n",
       "      <td>20.0</td>\n",
       "      <td>38</td>\n",
       "      <td>0</td>\n",
       "      <td>1</td>\n",
       "      <td>0</td>\n",
       "      <td>1</td>\n",
       "      <td>0</td>\n",
       "      <td>0</td>\n",
       "    </tr>\n",
       "    <tr>\n",
       "      <th>SCROP88856</th>\n",
       "      <td>3516</td>\n",
       "      <td>1</td>\n",
       "      <td>0</td>\n",
       "      <td>15</td>\n",
       "      <td>40.0</td>\n",
       "      <td>8</td>\n",
       "      <td>0</td>\n",
       "      <td>1</td>\n",
       "      <td>0</td>\n",
       "      <td>0</td>\n",
       "      <td>1</td>\n",
       "      <td>0</td>\n",
       "    </tr>\n",
       "    <tr>\n",
       "      <th>SCROP88857</th>\n",
       "      <td>3702</td>\n",
       "      <td>1</td>\n",
       "      <td>0</td>\n",
       "      <td>10</td>\n",
       "      <td>25.0</td>\n",
       "      <td>18</td>\n",
       "      <td>0</td>\n",
       "      <td>1</td>\n",
       "      <td>0</td>\n",
       "      <td>0</td>\n",
       "      <td>0</td>\n",
       "      <td>1</td>\n",
       "    </tr>\n",
       "    <tr>\n",
       "      <th>SCROP88858</th>\n",
       "      <td>3895</td>\n",
       "      <td>1</td>\n",
       "      <td>0</td>\n",
       "      <td>20</td>\n",
       "      <td>37.0</td>\n",
       "      <td>7</td>\n",
       "      <td>0</td>\n",
       "      <td>1</td>\n",
       "      <td>0</td>\n",
       "      <td>0</td>\n",
       "      <td>0</td>\n",
       "      <td>1</td>\n",
       "    </tr>\n",
       "  </tbody>\n",
       "</table>\n",
       "<p>8858 rows × 12 columns</p>\n",
       "</div>"
      ],
      "text/plain": [
       "                          Estimativa_de_Insetos  Tipo_de_Cultivo  \\\n",
       "Identificador_Agricultor                                           \n",
       "SCROP80001                                  256                0   \n",
       "SCROP80002                                  283                0   \n",
       "SCROP80003                                  283                0   \n",
       "SCROP80004                                  283                0   \n",
       "SCROP80005                                  283                0   \n",
       "...                                         ...              ...   \n",
       "SCROP88854                                 3337                1   \n",
       "SCROP88855                                 3516                1   \n",
       "SCROP88856                                 3516                1   \n",
       "SCROP88857                                 3702                1   \n",
       "SCROP88858                                 3895                1   \n",
       "\n",
       "                          Tipo_de_Solo  Doses_Semana  Semanas_Utilizando  \\\n",
       "Identificador_Agricultor                                                   \n",
       "SCROP80001                           1            35                11.0   \n",
       "SCROP80002                           1             5                 5.0   \n",
       "SCROP80003                           1            15                15.0   \n",
       "SCROP80004                           1            15                27.0   \n",
       "SCROP80005                           1            15                19.0   \n",
       "...                                ...           ...                 ...   \n",
       "SCROP88854                           0            10                12.0   \n",
       "SCROP88855                           0            10                20.0   \n",
       "SCROP88856                           0            15                40.0   \n",
       "SCROP88857                           0            10                25.0   \n",
       "SCROP88858                           0            20                37.0   \n",
       "\n",
       "                          Semanas_Sem_Uso  Categoria_Pesticida__1  \\\n",
       "Identificador_Agricultor                                            \n",
       "SCROP80001                              9                       0   \n",
       "SCROP80002                              6                       0   \n",
       "SCROP80003                              5                       0   \n",
       "SCROP80004                              7                       0   \n",
       "SCROP80005                              2                       0   \n",
       "...                                   ...                     ...   \n",
       "SCROP88854                             44                       0   \n",
       "SCROP88855                             38                       0   \n",
       "SCROP88856                              8                       0   \n",
       "SCROP88857                             18                       0   \n",
       "SCROP88858                              7                       0   \n",
       "\n",
       "                          Categoria_Pesticida__2  Categoria_Pesticida__3  \\\n",
       "Identificador_Agricultor                                                   \n",
       "SCROP80001                                     1                       0   \n",
       "SCROP80002                                     1                       0   \n",
       "SCROP80003                                     1                       0   \n",
       "SCROP80004                                     1                       0   \n",
       "SCROP80005                                     1                       0   \n",
       "...                                          ...                     ...   \n",
       "SCROP88854                                     1                       0   \n",
       "SCROP88855                                     1                       0   \n",
       "SCROP88856                                     1                       0   \n",
       "SCROP88857                                     1                       0   \n",
       "SCROP88858                                     1                       0   \n",
       "\n",
       "                          Temporada__1  Temporada__2  Temporada__3  \n",
       "Identificador_Agricultor                                            \n",
       "SCROP80001                           1             0             0  \n",
       "SCROP80002                           1             0             0  \n",
       "SCROP80003                           0             1             0  \n",
       "SCROP80004                           0             1             0  \n",
       "SCROP80005                           1             0             0  \n",
       "...                                ...           ...           ...  \n",
       "SCROP88854                           0             0             1  \n",
       "SCROP88855                           1             0             0  \n",
       "SCROP88856                           0             1             0  \n",
       "SCROP88857                           0             0             1  \n",
       "SCROP88858                           0             0             1  \n",
       "\n",
       "[8858 rows x 12 columns]"
      ]
     },
     "execution_count": 52,
     "metadata": {},
     "output_type": "execute_result"
    }
   ],
   "source": [
    "one_hot = pd.get_dummies(safra20.Temporada, prefix='Temporada_')\n",
    "safra20 = safra20.drop('Temporada', axis = 1)\n",
    "safra20 = pd.concat([safra20, one_hot], axis=1)\n",
    "safra20"
   ]
  },
  {
   "cell_type": "markdown",
   "metadata": {},
   "source": [
    "Colocando os dados no modelo"
   ]
  },
  {
   "cell_type": "code",
   "execution_count": 53,
   "metadata": {},
   "outputs": [],
   "source": [
    "resposta = model.predict(safra20)\n",
    "\n"
   ]
  },
  {
   "cell_type": "markdown",
   "metadata": {},
   "source": [
    "#### colocando a coluna resposta no dataframe"
   ]
  },
  {
   "cell_type": "code",
   "execution_count": 54,
   "metadata": {},
   "outputs": [],
   "source": [
    "resposta_final= safra20\n",
    "resposta_final['dano_na_plantacao']=resposta"
   ]
  },
  {
   "cell_type": "markdown",
   "metadata": {},
   "source": [
    "checando se há alguma resposta \"2\""
   ]
  },
  {
   "cell_type": "code",
   "execution_count": 55,
   "metadata": {},
   "outputs": [
    {
     "data": {
      "text/plain": [
       "0    8416\n",
       "1     436\n",
       "2       6\n",
       "Name: dano_na_plantacao, dtype: int64"
      ]
     },
     "execution_count": 55,
     "metadata": {},
     "output_type": "execute_result"
    }
   ],
   "source": [
    "resposta_final.dano_na_plantacao.value_counts()"
   ]
  },
  {
   "cell_type": "markdown",
   "metadata": {},
   "source": [
    "exportando a resposta em .csv"
   ]
  },
  {
   "cell_type": "code",
   "execution_count": 56,
   "metadata": {},
   "outputs": [],
   "source": [
    "resposta_final.to_csv(\"Safra_2020-resposta.csv\")"
   ]
  },
  {
   "cell_type": "code",
   "execution_count": null,
   "metadata": {},
   "outputs": [],
   "source": []
  }
 ],
 "metadata": {
  "kernelspec": {
   "display_name": "Python 3",
   "language": "python",
   "name": "python3"
  },
  "language_info": {
   "codemirror_mode": {
    "name": "ipython",
    "version": 3
   },
   "file_extension": ".py",
   "mimetype": "text/x-python",
   "name": "python",
   "nbconvert_exporter": "python",
   "pygments_lexer": "ipython3",
   "version": "3.7.6"
  }
 },
 "nbformat": 4,
 "nbformat_minor": 4
}
